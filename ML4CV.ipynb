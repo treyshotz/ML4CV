{
 "metadata": {
  "kernelspec": {
   "language": "python",
   "display_name": "Python 3",
   "name": "python3"
  },
  "language_info": {
   "name": "python",
   "version": "3.7.12",
   "mimetype": "text/x-python",
   "codemirror_mode": {
    "name": "ipython",
    "version": 3
   },
   "pygments_lexer": "ipython3",
   "nbconvert_exporter": "python",
   "file_extension": ".py"
  }
 },
 "nbformat_minor": 4,
 "nbformat": 4,
 "cells": [
  {
   "cell_type": "code",
   "source": [
    "import copy\n",
    "import os\n",
    "import random\n",
    "from enum import Enum\n",
    "\n",
    "import cv2 as cv\n",
    "import cv2\n",
    "\n",
    "import numpy as np\n",
    "import torch\n",
    "import torch.nn as nn\n",
    "import torch.nn.functional as F\n",
    "import torchvision\n",
    "import torchvision.transforms as T\n",
    "from matplotlib import pyplot as plt\n",
    "from sklearn.model_selection import KFold\n",
    "from torch.utils.data import DataLoader\n",
    "from torch.utils.data import Dataset\n",
    "from torchvision.transforms import ToTensor\n",
    "\n",
    "\n",
    "for dirname, _, filenames in os.walk('/kaggle/input'):\n",
    "    for filename in filenames:\n",
    "        print(os.path.join(dirname, filename))\n"
   ],
   "metadata": {
    "_uuid": "8f2839f25d086af736a60e9eeb907d3b93b6e0e5",
    "_cell_guid": "b1076dfc-b9ad-4769-8c92-a6c4dae69d19",
    "execution": {
     "iopub.status.busy": "2022-11-14T19:58:28.389133Z",
     "iopub.execute_input": "2022-11-14T19:58:28.389528Z",
     "iopub.status.idle": "2022-11-14T19:58:28.418647Z",
     "shell.execute_reply.started": "2022-11-14T19:58:28.389393Z",
     "shell.execute_reply": "2022-11-14T19:58:28.417380Z"
    },
    "trusted": true,
    "pycharm": {
     "name": "#%%\n"
    }
   },
   "execution_count": 1,
   "outputs": []
  },
  {
   "cell_type": "markdown",
   "source": [
    "# About the project\n",
    "\n",
    "*This project will seek to discover if machine learning models can train on two different datasets\n",
    "and still deliver acceptable results. The two datasets in question are MNIST and SVHN,\n",
    "both datasets containing numbers. The MNIST dataset contains handwritten digits of a single color,\n",
    "whereas SVHN contains house numbers in different shapes and colors. We will use a siamese model to see\n",
    "if the model can learn features despite its differences in numerical shapes. In addition, we will\n",
    "use a model with two identical networks in parallel, without weight sharing, where each network will\n",
    "have it's own dataset of focus.*"
   ],
   "metadata": {
    "collapsed": false,
    "pycharm": {
     "name": "#%% md\n"
    }
   }
  },
  {
   "cell_type": "markdown",
   "source": [
    "# Startphase\n",
    "*Before we set up the models and the training we must familiarize with the datasets used.*"
   ],
   "metadata": {
    "collapsed": false,
    "pycharm": {
     "name": "#%% md\n"
    }
   }
  },
  {
   "cell_type": "markdown",
   "source": [
    "## Loading the MNIST dataset\n",
    "*The MNIST dataset is available through the torchvision package*"
   ],
   "metadata": {
    "pycharm": {
     "name": "#%% md\n"
    }
   }
  },
  {
   "cell_type": "code",
   "source": [
    "mnist_train_dataset = torchvision.datasets.MNIST(root=\"data\", download=True, transform=ToTensor(), train=True)\n",
    "mnist_test_dataset = torchvision.datasets.MNIST(root=\"data\", download=True, transform=ToTensor(), train=False)\n"
   ],
   "metadata": {
    "execution": {
     "iopub.status.busy": "2022-11-14T19:58:28.726740Z",
     "iopub.execute_input": "2022-11-14T19:58:28.727033Z",
     "iopub.status.idle": "2022-11-14T19:58:33.509707Z",
     "shell.execute_reply.started": "2022-11-14T19:58:28.727011Z",
     "shell.execute_reply": "2022-11-14T19:58:33.508512Z"
    },
    "trusted": true,
    "pycharm": {
     "name": "#%%\n"
    }
   },
   "execution_count": 2,
   "outputs": []
  },
  {
   "cell_type": "markdown",
   "source": [
    "## Loading the SVHN dataset\n",
    "*The SVHN dataset is also available through torchvision. However, it has a different logic for splitting into train, test and extra*"
   ],
   "metadata": {
    "pycharm": {
     "name": "#%% md\n"
    }
   }
  },
  {
   "cell_type": "code",
   "source": [
    "svhn_train_dataset = torchvision.datasets.SVHN(root=\"data\", split='extra', download=True, transform=ToTensor())\n",
    "svhn_test_dataset = torchvision.datasets.SVHN(root=\"data\", split='test', download=True, transform=ToTensor())\n"
   ],
   "metadata": {
    "execution": {
     "iopub.status.busy": "2022-11-14T19:58:33.511835Z",
     "iopub.execute_input": "2022-11-14T19:58:33.512498Z",
     "iopub.status.idle": "2022-11-14T19:59:11.826606Z",
     "shell.execute_reply.started": "2022-11-14T19:58:33.512465Z",
     "shell.execute_reply": "2022-11-14T19:59:11.825040Z"
    },
    "trusted": true,
    "pycharm": {
     "name": "#%%\n"
    }
   },
   "execution_count": 3,
   "outputs": [
    {
     "name": "stdout",
     "output_type": "stream",
     "text": [
      "Using downloaded and verified file: data/extra_32x32.mat\n",
      "Using downloaded and verified file: data/test_32x32.mat\n"
     ]
    }
   ]
  },
  {
   "cell_type": "markdown",
   "source": [
    "## Visualizing the MNIST dataset\n",
    "*As seen below, the MNIST dataset is pretty simple and contains a fairly unanimous representation*"
   ],
   "metadata": {
    "pycharm": {
     "name": "#%% md\n"
    }
   }
  },
  {
   "cell_type": "code",
   "execution_count": 4,
   "outputs": [
    {
     "data": {
      "text/plain": "<Figure size 576x576 with 9 Axes>",
      "image/png": "[encoded data removed]"
     },
     "metadata": {
      "needs_background": "light"
     },
     "output_type": "display_data"
    }
   ],
   "source": [
    "figure = plt.figure(figsize=(8, 8))\n",
    "cols, rows = 3, 3\n",
    "\n",
    "for i in range(1, cols * rows + 1):\n",
    "    sample_idx = np.random.randint(len(mnist_train_dataset), size=(1,)).item()\n",
    "    img, label = mnist_train_dataset[sample_idx]\n",
    "    ax = figure.add_subplot(rows, cols, i)\n",
    "    ax.set_title(label)\n",
    "    plt.axis(\"off\")\n",
    "    plt.imshow(img.squeeze())\n",
    "plt.show()"
   ],
   "metadata": {
    "collapsed": false,
    "pycharm": {
     "name": "#%%\n"
    }
   }
  },
  {
   "cell_type": "markdown",
   "source": [
    "## Visualizing the SVHN dataset\n",
    "*The SVHN dataset differs from the MNIST dataset in several ways. Some images are nearly impossible to interpret,\n",
    "some contains several digits, and all of them are colored. To bridge the gap between these two datasets we will explore\n",
    "some image processing techniques that may help us. Here we are visualising the \"extra\" split, as this will be used in\n",
    "training due to it's clearer images."
   ],
   "metadata": {
    "collapsed": false,
    "pycharm": {
     "name": "#%% md\n"
    }
   }
  },
  {
   "cell_type": "code",
   "execution_count": 5,
   "outputs": [
    {
     "data": {
      "text/plain": "<Figure size 576x576 with 9 Axes>",
      "image/png": "[encoded data removed]"
     },
     "metadata": {
      "needs_background": "light"
     },
     "output_type": "display_data"
    }
   ],
   "source": [
    "figure = plt.figure(figsize=(8, 8))\n",
    "cols, rows = 3, 3\n",
    "\n",
    "for i in range(1, cols * rows + 1):\n",
    "    sample_idx = torch.randint(len(svhn_train_dataset), size=(1,)).item()\n",
    "    img, label = svhn_train_dataset[sample_idx]\n",
    "    img = img.permute(1, 2, 0)\n",
    "    ax1 = figure.add_subplot(rows, cols, i)\n",
    "    ax1.set_title(label)\n",
    "    plt.axis(\"off\")\n",
    "    plt.imshow(img.squeeze())\n",
    "\n",
    "plt.show()"
   ],
   "metadata": {
    "collapsed": false,
    "pycharm": {
     "name": "#%%\n"
    }
   }
  },
  {
   "cell_type": "markdown",
   "source": [
    "## Creating 2d-array with all the tensors based on label"
   ],
   "metadata": {
    "collapsed": false,
    "pycharm": {
     "name": "#%% md\n"
    }
   }
  },
  {
   "cell_type": "code",
   "execution_count": 6,
   "outputs": [],
   "source": [
    "num_classes = len(mnist_train_dataset.classes)\n",
    "\n",
    "mnist_idx_by_class = [np.where(mnist_train_dataset.targets == i)[0] for i in range(0, num_classes)]\n",
    "mnist_idx_test_by_class = [np.where(mnist_test_dataset.targets == i)[0] for i in range(0, num_classes)]\n",
    "\n",
    "svhn_idx_by_class = [np.where(svhn_train_dataset.labels == i)[0] for i in range(0, num_classes)]\n",
    "svhn_idx_test_by_class = [np.where(svhn_test_dataset.labels == i)[0] for i in range(0, num_classes)]"
   ],
   "metadata": {
    "collapsed": false,
    "pycharm": {
     "name": "#%%\n"
    }
   }
  },
  {
   "cell_type": "markdown",
   "source": [
    "## Inspecting same label images from the two datasets\n",
    "*Here we can see the difference between the datasets, compared on the same number*"
   ],
   "metadata": {
    "collapsed": false,
    "pycharm": {
     "name": "#%% md\n"
    }
   }
  },
  {
   "cell_type": "code",
   "execution_count": 7,
   "outputs": [
    {
     "data": {
      "text/plain": "<Figure size 576x576 with 2 Axes>",
      "image/png": "[encoded data removed]"
     },
     "metadata": {
      "needs_background": "light"
     },
     "output_type": "display_data"
    }
   ],
   "source": [
    "random_class = np.random.randint(0, num_classes)\n",
    "\n",
    "mnist_idx = random.choice(mnist_idx_by_class[random_class])\n",
    "svhn_idx = random.choice(svhn_idx_by_class[random_class])\n",
    "\n",
    "figure = plt.figure(figsize=(8, 8))\n",
    "mnist_img = mnist_train_dataset.data[mnist_idx]\n",
    "svhn_img = svhn_train_dataset.data[svhn_idx]\n",
    "\n",
    "ax = figure.add_subplot(1, 2, 1)\n",
    "ax.set_title(random_class)\n",
    "plt.axis(\"off\")\n",
    "plt.imshow(mnist_img.squeeze(), cmap=\"gray\")\n",
    "ax = figure.add_subplot(1, 2, 2)\n",
    "ax.set_title(random_class)\n",
    "plt.axis(\"off\")\n",
    "plt.imshow(svhn_img.transpose(1, 2, 0))\n",
    "\n",
    "plt.show()\n",
    "\n"
   ],
   "metadata": {
    "collapsed": false,
    "pycharm": {
     "name": "#%%\n"
    }
   }
  },
  {
   "cell_type": "markdown",
   "source": [
    "# Rewrite this based on what we end up using\n",
    "## Visualizing the distribution of labels from both train splits\n",
    "*As we can see the SVHN contains more images in total compared to the MNIST dataset. The distribution between the different\n",
    "classes is also quite uneven. To overcome this we will reduce the amount of images per class to 6k.\n",
    "The MNIST dataset generally has a quite even distribution of the digits and has a total of 60k images on the train split.\n",
    "We will do no modification to this dataset*\n"
   ],
   "metadata": {
    "collapsed": false,
    "pycharm": {
     "name": "#%% md\n"
    }
   }
  },
  {
   "cell_type": "code",
   "execution_count": 8,
   "outputs": [
    {
     "data": {
      "text/plain": "<Figure size 432x288 with 1 Axes>",
      "image/png": "[encoded data removed]"
     },
     "metadata": {
      "needs_background": "light"
     },
     "output_type": "display_data"
    }
   ],
   "source": [
    "labels = np.arange(0, 10)\n",
    "len_mnist = [len(x) for x in mnist_idx_by_class]\n",
    "len_svhn = [len(x) for x in svhn_idx_by_class]\n",
    "\n",
    "width = 0.3\n",
    "\n",
    "fig, ax = plt.subplots()\n",
    "rects1 = ax.bar(labels - width / 2, len_mnist, width, label='MNIST')\n",
    "rects2 = ax.bar(labels + width / 2, len_svhn, width, label='SVHN')\n",
    "\n",
    "ax.set_ylabel('Amount')\n",
    "ax.set_title('Amount of images by label')\n",
    "ax.set_xticks(labels, labels)\n",
    "ax.legend()\n",
    "\n",
    "ax.bar_label(rects1, padding=3)\n",
    "ax.bar_label(rects2, padding=3)\n",
    "\n",
    "fig.tight_layout()\n",
    "\n",
    "plt.show()"
   ],
   "metadata": {
    "collapsed": false,
    "pycharm": {
     "name": "#%%\n"
    }
   }
  },
  {
   "cell_type": "markdown",
   "source": [
    "## Visualizing the distribution of labels from both test splits\n",
    "*We can see that the distribution between the test splits are also quite uneven. To handle this\n",
    "we will reduce the number of test images in SVHN to 1k.*"
   ],
   "metadata": {
    "collapsed": false,
    "pycharm": {
     "name": "#%% md\n"
    }
   }
  },
  {
   "cell_type": "code",
   "execution_count": 9,
   "outputs": [
    {
     "data": {
      "text/plain": "<Figure size 432x288 with 1 Axes>",
      "image/png": "[encoded data removed]"
     },
     "metadata": {
      "needs_background": "light"
     },
     "output_type": "display_data"
    }
   ],
   "source": [
    "labels = np.arange(0, 10)\n",
    "len_mnist = [len(x) for x in mnist_idx_test_by_class]\n",
    "len_svhn = [len(x) for x in svhn_idx_test_by_class]\n",
    "\n",
    "width = 0.3\n",
    "\n",
    "fig, ax = plt.subplots()\n",
    "rects1 = ax.bar(labels - width / 2, len_mnist, width, label='MNIST')\n",
    "rects2 = ax.bar(labels + width / 2, len_svhn, width, label='SVHN')\n",
    "\n",
    "ax.set_ylabel('Amount')\n",
    "ax.set_title('Amount of images by label')\n",
    "ax.set_xticks(labels, labels)\n",
    "ax.legend()\n",
    "\n",
    "ax.bar_label(rects1, padding=3)\n",
    "ax.bar_label(rects2, padding=3)\n",
    "\n",
    "fig.tight_layout()\n",
    "\n",
    "plt.show()\n"
   ],
   "metadata": {
    "collapsed": false,
    "pycharm": {
     "name": "#%%\n"
    }
   }
  },
  {
   "cell_type": "markdown",
   "source": [
    "# Data preprocessing - Exploration phase\n",
    "*As we determined above, there is quite some difference between the datasets. In this section we will\n",
    "try to do some preprocessing to bridge the gap between the two*"
   ],
   "metadata": {
    "collapsed": false,
    "pycharm": {
     "name": "#%% md\n"
    }
   }
  },
  {
   "cell_type": "markdown",
   "source": [
    "## Grayscale\n",
    "*We will start by applying grayscale as this makes the image go from 3 channel to 1 channel. This is necessary as\n",
    "the MNIST images is already 1 channel.*"
   ],
   "metadata": {
    "collapsed": false,
    "pycharm": {
     "name": "#%% md\n"
    }
   }
  },
  {
   "cell_type": "code",
   "execution_count": 10,
   "outputs": [
    {
     "data": {
      "text/plain": "<Figure size 864x576 with 3 Axes>",
      "image/png": "[encoded data removed]"
     },
     "metadata": {
      "needs_background": "light"
     },
     "output_type": "display_data"
    }
   ],
   "source": [
    "gray_svhn = T.Grayscale()(torch.from_numpy(svhn_img))\n",
    "\n",
    "gray_svhn2 = gray_svhn\n",
    "\n",
    "gray_svhn = torch.movedim(gray_svhn, 0, 2)\n",
    "\n",
    "gray_svhn2 = gray_svhn2.detach().numpy()\n",
    "gray_svhn2 = cv.normalize(gray_svhn2, None, alpha=0, beta=255, norm_type=cv.NORM_MINMAX, dtype=cv.CV_32F)\n",
    "gray_svhn2 = 255 - gray_svhn2\n",
    "\n",
    "figure = plt.figure(figsize=(12, 8))\n",
    "ax = figure.add_subplot(1, 3, 1)\n",
    "plt.axis(\"off\")\n",
    "ax.set_title(\"MNIST in grayscale\")\n",
    "plt.imshow(mnist_img.squeeze(), cmap=\"gray\")\n",
    "\n",
    "ax = figure.add_subplot(1, 3, 2)\n",
    "plt.axis(\"off\")\n",
    "ax.set_title(\"SVHN in grayscale\")\n",
    "plt.imshow(gray_svhn.squeeze(), cmap=\"gray\")\n",
    "\n",
    "ax = figure.add_subplot(1, 3, 3)\n",
    "plt.axis(\"off\")\n",
    "ax.set_title(\"SVHN in grayscale normalized similar to MNIST\")\n",
    "plt.imshow(gray_svhn2.squeeze(), cmap=\"gray\")\n",
    "\n",
    "plt.show()\n"
   ],
   "metadata": {
    "collapsed": false,
    "pycharm": {
     "name": "#%%\n"
    }
   }
  },
  {
   "cell_type": "markdown",
   "source": [
    "## Threshold\n",
    "*Another technique we will try is thresholding the image. By doing this we will get a output image only\n",
    "consisting of black and white. As we can see below, the threshold delivers some questionable results. Although\n",
    "it is able to deliver only black and white, it still adds noise to the image.*"
   ],
   "metadata": {
    "collapsed": false,
    "pycharm": {
     "name": "#%% md\n"
    }
   }
  },
  {
   "cell_type": "code",
   "execution_count": 11,
   "outputs": [
    {
     "data": {
      "text/plain": "<Figure size 864x864 with 4 Axes>",
      "image/png": "[encoded data removed]"
     },
     "metadata": {
      "needs_background": "light"
     },
     "output_type": "display_data"
    }
   ],
   "source": [
    "svhn = svhn_img.transpose(1, 2, 0)\n",
    "mnist = mnist_img.detach().numpy()\n",
    "\n",
    "svhn_grey = cv.cvtColor(svhn, cv.COLOR_BGR2GRAY)\n",
    "svhn_grey = cv.normalize(svhn_grey, None, alpha=0, beta=255, norm_type=cv.NORM_MINMAX, dtype=cv.CV_32F)\n",
    "svhn_grey = svhn_grey.astype(np.uint8)\n",
    "\n",
    "#Should find a good number for reduction on adaptive threshold, e.g. the last number\n",
    "svhn_threshold = cv.adaptiveThreshold(svhn_grey, 255, cv.ADAPTIVE_THRESH_MEAN_C, cv.THRESH_BINARY, 11, 0)\n",
    "#svhn_threshold = cv.bitwise_not(svhn_threshold)\n",
    "\n",
    "#Threshold reduction number needs to be 0 on mnist\n",
    "mnist = cv.normalize(mnist, None, alpha=0, beta=255, norm_type=cv.NORM_MINMAX, dtype=cv.CV_8UC1)\n",
    "mnist = mnist.astype(np.uint8)\n",
    "mnist_threshold = cv.adaptiveThreshold(mnist, 255, cv.ADAPTIVE_THRESH_MEAN_C, cv.THRESH_BINARY, 11, 0)\n",
    "\n",
    "figure = plt.figure(figsize=(12, 12))\n",
    "\n",
    "ax = figure.add_subplot(2, 2, 1)\n",
    "ax.set_title(\"SVHN Original\")\n",
    "plt.axis(\"off\")\n",
    "plt.imshow(svhn, cmap=\"gray\")\n",
    "\n",
    "ax = figure.add_subplot(2, 2, 2)\n",
    "ax.set_title(\"SVHN Adaptive threshold\")\n",
    "plt.axis(\"off\")\n",
    "plt.imshow(svhn_threshold, cmap=\"gray\")\n",
    "\n",
    "ax = figure.add_subplot(2, 2, 3)\n",
    "ax.set_title(\"MNIST Original\")\n",
    "plt.axis(\"off\")\n",
    "plt.imshow(mnist, cmap=\"gray\")\n",
    "\n",
    "ax = figure.add_subplot(2, 2, 4)\n",
    "ax.set_title(\"MNIST Adaptive threshold\")\n",
    "plt.axis(\"off\")\n",
    "plt.imshow(mnist_threshold, cmap=\"gray\")\n",
    "\n",
    "plt.show()"
   ],
   "metadata": {
    "collapsed": false,
    "pycharm": {
     "name": "#%%\n"
    }
   }
  },
  {
   "cell_type": "markdown",
   "source": [
    "## Equalize Hist and CLAHE\n",
    "*Last we will try equalize histogram and CLAHE + grayscale. We will first convert the images into grayscale\n",
    "before applying the different techniques, leaving us with a 1 channel image.*"
   ],
   "metadata": {
    "collapsed": false,
    "pycharm": {
     "name": "#%% md\n"
    }
   }
  },
  {
   "cell_type": "code",
   "execution_count": 12,
   "outputs": [
    {
     "data": {
      "text/plain": "<matplotlib.image.AxesImage at 0x136581820>"
     },
     "execution_count": 12,
     "metadata": {},
     "output_type": "execute_result"
    },
    {
     "data": {
      "text/plain": "<Figure size 576x576 with 4 Axes>",
      "image/png": "[encoded data removed]"
     },
     "metadata": {
      "needs_background": "light"
     },
     "output_type": "display_data"
    }
   ],
   "source": [
    "image = svhn\n",
    "\n",
    "image = cv.normalize(image, None, alpha=0, beta=255, norm_type=cv.NORM_MINMAX, dtype=cv.CV_32F)\n",
    "image = cv.cvtColor(image, cv.COLOR_BGR2GRAY)\n",
    "image = image.astype(np.uint8)\n",
    "\n",
    "image2 = image\n",
    "image4 = image\n",
    "\n",
    "image = cv.equalizeHist(image)\n",
    "clahe = cv.createCLAHE(clipLimit=3., )\n",
    "image2 = clahe.apply(image2)\n",
    "\n",
    "image3 = cv.adaptiveThreshold(image, 255, cv.ADAPTIVE_THRESH_MEAN_C, cv.THRESH_BINARY, 11, 2)\n",
    "image4 = cv.adaptiveThreshold(image4, 255, cv.ADAPTIVE_THRESH_MEAN_C, cv.THRESH_BINARY, 11, 20)\n",
    "\n",
    "figure = plt.figure(figsize=(8, 8))\n",
    "\n",
    "ax = figure.add_subplot(2, 2, 1)\n",
    "ax.set_title(\"EqualizeHist\")\n",
    "plt.axis(\"off\")\n",
    "plt.imshow(image.squeeze(), cmap=\"gray\")\n",
    "ax = figure.add_subplot(2, 2, 2)\n",
    "ax.set_title(\"CLAHE\")\n",
    "plt.axis(\"off\")\n",
    "plt.imshow(image2.squeeze(), cmap=\"gray\")\n",
    "ax = figure.add_subplot(2, 2, 3)\n",
    "ax.set_title(\"EqualizeHist + Adaptive Threshold\")\n",
    "plt.axis(\"off\")\n",
    "plt.imshow(image3.squeeze(), cmap=\"gray\")\n",
    "ax = figure.add_subplot(2, 2, 4)\n",
    "ax.set_title(\"Adaptive Threshold\")\n",
    "plt.axis(\"off\")\n",
    "plt.imshow(image4.squeeze(), cmap=\"gray\")\n"
   ],
   "metadata": {
    "collapsed": false,
    "pycharm": {
     "name": "#%%\n"
    }
   }
  },
  {
   "cell_type": "markdown",
   "source": [
    "## Clearing up variables\n",
    "*Upon ending the exploration we will empty some variables to reduce the load as much as possible*\n"
   ],
   "metadata": {
    "collapsed": false,
    "pycharm": {
     "name": "#%% md\n"
    }
   }
  },
  {
   "cell_type": "code",
   "execution_count": 13,
   "outputs": [],
   "source": [
    "del svhn_idx_by_class\n",
    "del svhn_train_dataset\n",
    "del mnist_idx_by_class\n",
    "del mnist_train_dataset"
   ],
   "metadata": {
    "collapsed": false,
    "pycharm": {
     "name": "#%%\n"
    }
   }
  },
  {
   "cell_type": "markdown",
   "source": [
    "# Defining the model\n",
    "*Let's start with defining the different models that will be used for the training*"
   ],
   "metadata": {
    "collapsed": false,
    "pycharm": {
     "name": "#%% md\n"
    }
   }
  },
  {
   "cell_type": "markdown",
   "source": [
    "### Using CUDA if possible"
   ],
   "metadata": {
    "collapsed": false,
    "pycharm": {
     "name": "#%% md\n"
    }
   }
  },
  {
   "cell_type": "code",
   "execution_count": 14,
   "outputs": [
    {
     "name": "stdout",
     "output_type": "stream",
     "text": [
      "cpu\n"
     ]
    }
   ],
   "source": [
    "device = torch.device(\"cuda:0\" if torch.cuda.is_available() else \"cpu\")\n",
    "print(device)\n"
   ],
   "metadata": {
    "collapsed": false,
    "pycharm": {
     "name": "#%%\n"
    }
   }
  },
  {
   "cell_type": "markdown",
   "source": [
    "## Defining the loss function\n",
    "*The loss function used in this project is a contrastive loss. When two images is similar, the loss will\n",
    "be low and high when the images are dissimilar. The margin in the loss function sets the limit for how\n",
    "the distance of dissimilar images will be. If the distance is greater than the margin, the loss is set to zero\n",
    "because the representations are already far enough apart. If the distance is less than the margin,\n",
    "the loss is set to the difference between the distance and the margin, encouraging the network to\n",
    "push the representations farther apart.*"
   ],
   "metadata": {
    "collapsed": false,
    "pycharm": {
     "name": "#%% md\n"
    }
   }
  },
  {
   "cell_type": "code",
   "execution_count": 15,
   "outputs": [],
   "source": [
    "class ContrastiveLoss(nn.Module):\n",
    "\n",
    "    def __init__(self, margin=2.0):\n",
    "        super(ContrastiveLoss, self).__init__()\n",
    "        self.margin = margin\n",
    "\n",
    "    def forward(self, output1, output2, label):\n",
    "        euclidean_distance = F.pairwise_distance(output1, output2)\n",
    "\n",
    "        loss_contrastive = torch.mean(\n",
    "            (1 - label) * torch.pow(euclidean_distance, 2)\n",
    "            + label\n",
    "            * torch.pow(torch.clamp(self.margin - euclidean_distance, min=0.0), 2)\n",
    "        ) / 2.0\n",
    "        return loss_contrastive\n",
    "\n",
    "\n",
    "def threshold_contrastive_loss(output1: torch.Tensor, output2: torch.Tensor, m: float):\n",
    "    \"\"\"dist > m --> 1 else 0\"\"\"\n",
    "    euclidean_distance = F.pairwise_distance(output1, output2)\n",
    "    threshold = euclidean_distance.clone()\n",
    "    threshold.data.fill_(m)\n",
    "    return (euclidean_distance > threshold).float()\n"
   ],
   "metadata": {
    "collapsed": false,
    "pycharm": {
     "name": "#%%\n"
    }
   }
  },
  {
   "cell_type": "markdown",
   "source": [
    "## Transformations\n",
    "*We define the transformations that we want to use on our images*"
   ],
   "metadata": {
    "collapsed": false,
    "pycharm": {
     "name": "#%% md\n"
    }
   }
  },
  {
   "cell_type": "code",
   "execution_count": null,
   "outputs": [],
   "source": [
    "class ToNumpy:\n",
    "    def __call__(self, sample):\n",
    "        if len(sample.shape) == 2:\n",
    "            sample = sample.unsqueeze(0)\n",
    "\n",
    "        if isinstance(sample, torch.Tensor):\n",
    "            sample = sample.numpy()\n",
    "        return sample.transpose(1, 2, 0)\n",
    "\n",
    "\n",
    "class Resize:\n",
    "    def __call__(self, sample):\n",
    "        return cv2.resize(sample, (28, 28))\n",
    "\n",
    "\n",
    "class GrayScale:\n",
    "    def __call__(self, sample):\n",
    "        if len(sample.shape) < 3:\n",
    "            return sample\n",
    "        return cv2.cvtColor(sample, cv2.COLOR_RGB2GRAY)\n",
    "\n",
    "\n",
    "class EqualizeHist:\n",
    "    def __call__(self, sample):\n",
    "        sample = cv.normalize(sample, None, alpha=0, beta=255, norm_type=cv.NORM_MINMAX, dtype=cv.CV_8UC1)\n",
    "        sample = cv.equalizeHist(sample)\n",
    "        if len(np.where(sample.flatten() > 200)[0]) > len(np.where(sample.flatten() < 200)[0]):\n",
    "            sample = 255 - sample\n",
    "        return sample\n",
    "\n",
    "\n",
    "class CLAHE:\n",
    "    def __call__(self, sample):\n",
    "        sample = cv.normalize(sample, None, alpha=0, beta=255, norm_type=cv.NORM_MINMAX, dtype=cv.CV_8UC1)\n",
    "        clahe = cv.createCLAHE(clipLimit=3., )\n",
    "        sample = clahe.apply(sample)\n",
    "        if len(np.where(sample.flatten() > 200)[0]) > len(np.where(sample.flatten() < 200)[0]):\n",
    "            sample = 255 - sample\n",
    "        return sample\n",
    "\n",
    "\n",
    "class AdaptiveThreshold:\n",
    "    def __call__(self, sample):\n",
    "        sample = cv.normalize(sample, None, alpha=0, beta=255, norm_type=cv.NORM_MINMAX, dtype=cv.CV_8UC1)\n",
    "        sample = cv.adaptiveThreshold(sample, 255, cv.ADAPTIVE_THRESH_MEAN_C, cv.THRESH_BINARY, 11, 10)\n",
    "        if len(np.where(sample.flatten() > 200)[0]) > len(np.where(sample.flatten() < 200)[0]):\n",
    "            sample = 255 - sample\n",
    "\n",
    "        return sample\n"
   ],
   "metadata": {
    "collapsed": false,
    "pycharm": {
     "name": "#%%\n"
    }
   }
  },
  {
   "cell_type": "markdown",
   "source": [
    "## Defining siamese network model\n",
    "*Our model is based on the resnet architecture. We have slightly modified it to fit our needs of images\n",
    "with only 1 channel instead of 3 channel*"
   ],
   "metadata": {
    "collapsed": false,
    "pycharm": {
     "name": "#%% md\n"
    }
   }
  },
  {
   "cell_type": "code",
   "execution_count": 17,
   "outputs": [],
   "source": [
    "class SiameseNetwork(nn.Module):\n",
    "    def __init__(self):\n",
    "        super(SiameseNetwork, self).__init__()\n",
    "\n",
    "        self.cnn1 = torchvision.models.resnet18(pretrained=False)\n",
    "        self.fc_in_features = self.cnn1.fc.in_features\n",
    "\n",
    "        self.cnn1.conv1 = nn.Conv2d(1, 64, kernel_size=(7, 7), stride=(1, 1), padding=(1, 1))\n",
    "        self.cnn1 = nn.Sequential(*(list(self.cnn1.children())[:-1]))\n",
    "\n",
    "        self.fc1 = nn.Sequential(\n",
    "            nn.Linear(self.fc_in_features, 256),\n",
    "            nn.ReLU(inplace=True),\n",
    "            nn.Linear(256, 10),\n",
    "        )\n",
    "\n",
    "    def forward_once(self, x):\n",
    "        # Forward pass\n",
    "        output = self.cnn1(x)\n",
    "        output = output.view(output.size()[0], -1)\n",
    "        output = self.fc1(output)\n",
    "        return output\n",
    "\n",
    "    def forward(self, input1, input2):\n",
    "        # forward pass of input 1\n",
    "        output1 = self.forward_once(input1)\n",
    "        # forward pass of input 2\n",
    "        output2 = self.forward_once(input2)\n",
    "        return output1, output2\n"
   ],
   "metadata": {
    "collapsed": false,
    "pycharm": {
     "name": "#%%\n"
    }
   }
  },
  {
   "cell_type": "markdown",
   "source": [
    "## Non-siamese model\n",
    "*Our non-siamese model is also based on the resnet18 architecture. Instead of using the same network\n",
    "for both forward passes, we have two separate resnet18 networks for each input. One network will always handle input\n",
    "from one dataset, and the other network will always handle the data from the remaining dataset.  We design the non-siamese\n",
    "dataset such that MNIST input always will be the first and SVHN always will be second.*"
   ],
   "metadata": {
    "collapsed": false,
    "pycharm": {
     "name": "#%% md\n"
    }
   }
  },
  {
   "cell_type": "code",
   "execution_count": null,
   "outputs": [],
   "source": [
    "class NonSiameseNetwork(nn.Module):\n",
    "    def __init__(self):\n",
    "        super(NonSiameseNetwork, self).__init__()\n",
    "\n",
    "        #By design of the dataset input 1 will always be mnist and input 2 will always be svhn\n",
    "\n",
    "        self.cnn1 = torchvision.models.resnet18(pretrained=False)\n",
    "        self.fc_in_features = self.cnn1.fc.in_features\n",
    "        self.cnn1.conv1 = nn.Conv2d(1, 64, kernel_size=(7, 7), stride=(1, 1), padding=(1, 1))\n",
    "        self.cnn1 = nn.Sequential(*(list(self.cnn1.children())[:-1]))\n",
    "\n",
    "        self.cnn2 = torchvision.models.resnet50(pretrained=False)\n",
    "        self.cnn2.conv1 = nn.Conv2d(1, 64, kernel_size=(7, 7), stride=(1, 1), padding=(1, 1))\n",
    "        self.cnn2 = nn.Sequential(*(list(self.cnn2.children())[:-1]))\n",
    "\n",
    "        self.fc1 = nn.Sequential(\n",
    "            nn.Linear(self.fc_in_features, 256),\n",
    "            nn.ReLU(inplace=True),\n",
    "            nn.Linear(256, 10),\n",
    "        )\n",
    "\n",
    "        self.fc2 = nn.Sequential(\n",
    "            nn.Linear(self.fc_in_features, 256),\n",
    "            nn.ReLU(inplace=True),\n",
    "            nn.Linear(256, 10),\n",
    "        )\n",
    "\n",
    "    def forward_once(self, x):\n",
    "        # Forward pass\n",
    "        output = self.cnn1(x)\n",
    "        output = output.view(output.size()[0], -1)\n",
    "        output = self.fc1(output)\n",
    "        return output\n",
    "\n",
    "    def forward_second(self, x):\n",
    "        output = self.cnn2(x)\n",
    "        output = output.view(output.size()[0], -1)\n",
    "        output = self.fc2(output)\n",
    "        return output\n",
    "\n",
    "    def forward(self, input1, input2):\n",
    "        # forward pass of mnist input\n",
    "        output1 = self.forward_once(input1)\n",
    "        # forward pass of svhn input\n",
    "        output2 = self.forward_second(input2)\n",
    "        return output1, output2\n"
   ],
   "metadata": {
    "collapsed": false,
    "pycharm": {
     "name": "#%%\n"
    }
   }
  },
  {
   "cell_type": "markdown",
   "source": [
    "# Setting up the custom datasets\n"
   ],
   "metadata": {
    "collapsed": false,
    "pycharm": {
     "name": "#%% md\n"
    }
   }
  },
  {
   "cell_type": "markdown",
   "source": [
    "## The four possible dataset combinations"
   ],
   "metadata": {
    "collapsed": false,
    "pycharm": {
     "name": "#%% md\n"
    }
   }
  },
  {
   "cell_type": "code",
   "execution_count": 19,
   "outputs": [],
   "source": [
    "class DatasetType(Enum):\n",
    "    MNIST = 1, #Only the MNIST dataset\n",
    "    SVHN = 2, #Only the SVHN dataset\n",
    "    BOTH = 3, #SVHN images will be paired with SVHN and MNIST images with MNIST\n",
    "    MIX = 4 #SVHN and MNIST will be paired and mixed at random"
   ],
   "metadata": {
    "collapsed": false,
    "pycharm": {
     "name": "#%%\n"
    }
   }
  },
  {
   "cell_type": "markdown",
   "source": [
    "## Siamese dataset\n",
    "*The siamese dataset can be mixed based on the enum. It will preprocess the whole dataset based on\n",
    "the transformation before creating the pairs. The pairs are created with both negative and positive samples,\n",
    "meaning that we will have some pair of images where they are from the same class and some images\n",
    "where the images are from different classes.*"
   ],
   "metadata": {
    "collapsed": false,
    "pycharm": {
     "name": "#%% md\n"
    }
   }
  },
  {
   "cell_type": "code",
   "execution_count": null,
   "outputs": [],
   "source": [
    "class SiameseDataset(Dataset):\n",
    "    def __init__(self, train: bool, dataset_type: DatasetType, transform=None):\n",
    "        self.dataset_type = dataset_type\n",
    "        self.transform = transform\n",
    "        self.train = train\n",
    "\n",
    "        self.num_classes = 10\n",
    "\n",
    "        if self.dataset_type != DatasetType.SVHN:\n",
    "            self.mnist = torchvision.datasets.MNIST(\"files\", train=train, download=True)\n",
    "            print(\"Preprocessing MNIST\")\n",
    "            self.mnist_preprocessed = list(map(self.transform, self.mnist.data))\n",
    "            print(\"MNIST preprocessed\")\n",
    "\n",
    "        if self.dataset_type != DatasetType.MNIST:\n",
    "            self.svhn = torchvision.datasets.SVHN(root=\"data\", split=\"extra\" if train else \"test\", download=True)\n",
    "            print(\"Preprocessing SVHN\")\n",
    "            self.svhn_preprocessed = list(map(self.transform, self.svhn.data))\n",
    "            print(\"SVHN preprocessed\")\n",
    "\n",
    "        self.pairs = self.make_pairs()\n",
    "\n",
    "    def __getitem__(self, index):\n",
    "        img1_dataset, img1_index, img2_dataset, img2_index, matching = self.pairs[index]\n",
    "\n",
    "        img1 = self.mnist_preprocessed[img1_index] if (img1_dataset == 0) else self.svhn_preprocessed[img1_index]\n",
    "        img2 = self.mnist_preprocessed[img2_index] if (img2_dataset == 0) else self.svhn_preprocessed[img2_index]\n",
    "\n",
    "        return img1, img2, matching\n",
    "\n",
    "    def __len__(self):\n",
    "        return len(self.pairs)\n",
    "\n",
    "    def make_pairs(self):\n",
    "        pairs = []\n",
    "\n",
    "        if self.dataset_type == DatasetType.MNIST or self.dataset_type == DatasetType.BOTH:\n",
    "            mnist_by_label = [np.where(self.mnist.targets == i)[0] for i in range(0, self.num_classes)]\n",
    "\n",
    "            for label in range(len(mnist_by_label)):\n",
    "                for anchor_image in mnist_by_label[label]:\n",
    "\n",
    "                    pos_image = np.random.choice(mnist_by_label[label])\n",
    "                    pairs.append([0, anchor_image, 0, pos_image, 0])\n",
    "\n",
    "                    neg_label = np.random.randint(0, self.num_classes)\n",
    "                    while neg_label == label:\n",
    "                        neg_label = np.random.randint(0, self.num_classes)\n",
    "\n",
    "                    neg_image = np.random.choice(mnist_by_label[neg_label])\n",
    "                    pairs.append([0, anchor_image, 0, neg_image, 1])\n",
    "\n",
    "        if self.dataset_type == DatasetType.SVHN or self.dataset_type == DatasetType.BOTH:\n",
    "            svhn_by_label = [np.where(self.svhn.labels == i)[0] for i in range(0, self.num_classes)]\n",
    "            for i in range(0, self.num_classes):\n",
    "                limit = 6000 if self.train is True else 1000\n",
    "                svhn_by_label[i] = svhn_by_label[i][0:limit]\n",
    "\n",
    "            for label in range(len(svhn_by_label)):\n",
    "                for anchor_image in svhn_by_label[label]:\n",
    "\n",
    "                    pos_image = np.random.choice(svhn_by_label[label])\n",
    "\n",
    "                    pairs.append([1, anchor_image, 1, pos_image, 0])\n",
    "\n",
    "                    neg_label = np.random.randint(0, self.num_classes)\n",
    "                    while neg_label == label:\n",
    "                        neg_label = np.random.randint(0, self.num_classes)\n",
    "\n",
    "                    neg_image = np.random.choice(svhn_by_label[neg_label])\n",
    "\n",
    "                    pairs.append([1, anchor_image, 1, neg_image, 1])\n",
    "\n",
    "        if self.dataset_type == DatasetType.MIX:\n",
    "            datasets_by_label = [[np.where(self.mnist.targets == i)[0] for i in range(0, self.num_classes)],\n",
    "                                 [np.where(self.svhn.labels == i)[0] for i in range(0, self.num_classes)]]\n",
    "            for i in range(0, len(datasets_by_label[1])):\n",
    "                limit = 6000 if self.train is True else 1000\n",
    "                datasets_by_label[1][i] = datasets_by_label[1][i][0:limit]\n",
    "\n",
    "            for dataset_index in range(len(datasets_by_label)):\n",
    "                dataset_by_label = datasets_by_label[dataset_index]\n",
    "\n",
    "                for label in range(len(dataset_by_label)):\n",
    "                    for anchor_image in dataset_by_label[label]:\n",
    "\n",
    "                        pos_dataset_index = np.random.randint(0, 2)\n",
    "                        pos_image = np.random.choice(datasets_by_label[pos_dataset_index][label])\n",
    "\n",
    "                        pairs.append([dataset_index, anchor_image, pos_dataset_index, pos_image, 0])\n",
    "\n",
    "                        neg_dataset_index = np.random.randint(0, 2)\n",
    "                        neg_label = np.random.randint(0, self.num_classes)\n",
    "                        while neg_label == label:\n",
    "                            neg_label = np.random.randint(0, self.num_classes)\n",
    "\n",
    "                        neg_image = np.random.choice(datasets_by_label[neg_dataset_index][neg_label])\n",
    "\n",
    "                        pairs.append([dataset_index, anchor_image, neg_dataset_index, neg_image, 1])\n",
    "\n",
    "        return pairs\n"
   ],
   "metadata": {
    "collapsed": false,
    "pycharm": {
     "name": "#%%\n"
    }
   }
  },
  {
   "cell_type": "markdown",
   "source": [
    "## Non-Siamese dataset\n",
    "*The non-siamese will be preprocessed similarly to the siamese dataset. The pairs are created\n",
    "in such a way that it will always be a MNIST image as the first image and a SVHN image in the second*"
   ],
   "metadata": {
    "collapsed": false,
    "pycharm": {
     "name": "#%% md\n"
    }
   }
  },
  {
   "cell_type": "code",
   "execution_count": null,
   "outputs": [],
   "source": [
    "class NonSiameseDataset(Dataset):\n",
    "    def __init__(self, train: bool, transform=None):\n",
    "        self.transform = transform\n",
    "        self.train = train\n",
    "\n",
    "        self.num_classes = 10\n",
    "\n",
    "        self.mnist = torchvision.datasets.MNIST(\"files\", train=train, download=True)\n",
    "        print(\"Preprocessing MNIST\")\n",
    "        self.mnist_preprocessed = list(map(self.transform, self.mnist.data))\n",
    "        print(\"MNIST preprocessed\")\n",
    "\n",
    "        self.svhn = torchvision.datasets.SVHN(root=\"data\", split=\"extra\" if train else \"test\", download=True)\n",
    "        print(\"Preprocessing SVHN\")\n",
    "        self.svhn_preprocessed = list(map(self.transform, self.svhn.data))\n",
    "        print(\"SVHN preprocessed\")\n",
    "\n",
    "        self.pairs = self.make_pairs()\n",
    "\n",
    "    def __getitem__(self, index):\n",
    "        img1_index, img2_index, matching = self.pairs[index]\n",
    "\n",
    "        img1 = self.mnist_preprocessed[img1_index]\n",
    "        img2 = self.svhn_preprocessed[img2_index]\n",
    "\n",
    "        return img1, img2, matching\n",
    "\n",
    "    def __len__(self):\n",
    "        return len(self.pairs)\n",
    "\n",
    "    def make_pairs(self):\n",
    "        pairs = []\n",
    "        datasets_by_label = [[np.where(self.mnist.targets == i)[0] for i in range(0, self.num_classes)],\n",
    "                             [np.where(self.svhn.labels == i)[0] for i in range(0, self.num_classes)]]\n",
    "\n",
    "        for i in range(0, len(datasets_by_label[1])):\n",
    "            limit = 6000 if self.train is True else 1000\n",
    "            datasets_by_label[1][i] = datasets_by_label[1][i][0:6000]\n",
    "\n",
    "        for dataset_index in range(len(datasets_by_label)):\n",
    "            dataset_by_label = datasets_by_label[dataset_index]\n",
    "\n",
    "            for label in range(len(dataset_by_label)):\n",
    "                for anchor_image in dataset_by_label[label]:\n",
    "\n",
    "                    other_dataset = abs(dataset_index - 1)\n",
    "                    pos_image = np.random.choice(datasets_by_label[other_dataset][label])\n",
    "\n",
    "                    neg_label = np.random.randint(0, self.num_classes)\n",
    "                    while neg_label == label:\n",
    "                        neg_label = np.random.randint(0, self.num_classes)\n",
    "\n",
    "                    neg_image = np.random.choice(datasets_by_label[other_dataset][neg_label])\n",
    "\n",
    "                    if dataset_index == 0:\n",
    "                        pairs.append([anchor_image, pos_image, 0])\n",
    "                        pairs.append([anchor_image, neg_image, 1])\n",
    "                    else:\n",
    "                        pairs.append([pos_image, anchor_image, 0])\n",
    "                        pairs.append([neg_label, anchor_image, 1])\n",
    "\n",
    "        return pairs\n"
   ],
   "metadata": {
    "collapsed": false,
    "pycharm": {
     "name": "#%%\n"
    }
   }
  },
  {
   "cell_type": "markdown",
   "source": [
    "## Train logic"
   ],
   "metadata": {
    "collapsed": false,
    "pycharm": {
     "name": "#%% md\n"
    }
   }
  },
  {
   "cell_type": "code",
   "execution_count": null,
   "outputs": [],
   "source": [
    "def reset_weights(m):\n",
    "    '''\n",
    "    Try resetting model weights to avoid\n",
    "    weight leakage.\n",
    "    '''\n",
    "    for layer in m.children():\n",
    "        if hasattr(layer, 'reset_parameters'):\n",
    "            # print(f'Reset trainable parameters of layer = {layer}')\n",
    "            layer.reset_parameters()\n",
    "\n",
    "\n",
    "def train(model, optimizer, criterion, dataloader, device):\n",
    "    model.train()\n",
    "\n",
    "    binary_threshold = 1.\n",
    "    loss = []\n",
    "    correct = 0\n",
    "    total = 0.\n",
    "    for img1, img2, label in dataloader:\n",
    "        optimizer.zero_grad()\n",
    "\n",
    "        img1, img2, label = img1.to(device), img2.to(device), label.to(device)\n",
    "        output1, output2 = model(img1, img2)\n",
    "\n",
    "        loss_contrastive = criterion(output1, output2, label)\n",
    "        loss_contrastive.backward()\n",
    "        optimizer.step()\n",
    "        loss.append(loss_contrastive.item())\n",
    "\n",
    "        output_label = threshold_contrastive_loss(output1, output2, binary_threshold).to(device)\n",
    "        total += len(label)\n",
    "        correct += (output_label == label).sum().item()\n",
    "\n",
    "    loss = np.array(loss)\n",
    "    return loss.mean() / len(dataloader), correct / total\n",
    "\n",
    "\n",
    "def save_model(model, name):\n",
    "    model.eval()\n",
    "    # Input to the model\n",
    "    example1 = torch.randn(1, 1, 28, 28)\n",
    "    example2 = torch.randn(1, 1, 28, 28)\n",
    "    traced_script_module = torch.jit.trace(model.cpu(), (example1, example2))\n",
    "    torch.jit.save(traced_script_module, name)\n",
    "    print(f\"Saved model with name: {name}\")\n",
    "\n",
    "\n",
    "def validate(model, criterion, dataloader, device):\n",
    "    model.eval()\n",
    "\n",
    "    binary_threshold = 1.\n",
    "    loss = []\n",
    "    correct = 0\n",
    "    total = 0.\n",
    "    with torch.no_grad():\n",
    "        for img1, img2, label in dataloader:\n",
    "            img1, img2, label = img1.to(device), img2.to(device), label.to(device)\n",
    "            output1, output2 = model(img1, img2)\n",
    "\n",
    "            loss_contrastive = criterion(output1, output2, label)\n",
    "            loss.append(loss_contrastive.item())\n",
    "\n",
    "            output_label = threshold_contrastive_loss(output1, output2, binary_threshold).to(device)\n",
    "            total += len(label)\n",
    "            correct += (output_label == label).sum().item()\n",
    "\n",
    "        loss = np.array(loss)\n",
    "    return loss.mean() / len(dataloader), correct / total\n",
    "\n",
    "\n",
    "def train_pipeline(epochs, k_fold, batch_size, train_dataset, lr, device, num_workers, model):\n",
    "    contrastive_loss = ContrastiveLoss()\n",
    "    best_model = \"\"\n",
    "\n",
    "    for fold, (train_idx, val_idx) in enumerate(k_fold.split(train_dataset)):\n",
    "\n",
    "        train_subsampler = torch.utils.data.SubsetRandomSampler(train_idx)\n",
    "        val_subsampler = torch.utils.data.SubsetRandomSampler(val_idx)\n",
    "\n",
    "        train_dataloader = DataLoader(train_dataset, batch_size=batch_size, sampler=train_subsampler,\n",
    "                                      num_workers=num_workers)\n",
    "        val_dataloader = DataLoader(train_dataset, batch_size=batch_size, sampler=val_subsampler,\n",
    "                                    num_workers=num_workers)\n",
    "\n",
    "        net = model()\n",
    "        net.apply(reset_weights)\n",
    "        net = net.to(device)\n",
    "\n",
    "        adam = torch.optim.Adam(net.parameters(), lr=lr, weight_decay=0.001)\n",
    "\n",
    "        rounds_without_improvement = 0\n",
    "        best_loss = float('inf')\n",
    "        best_epoch = 0\n",
    "\n",
    "        print(f\"--FOLD {fold + 1}--\\n\")\n",
    "        for epoch in range(epochs):\n",
    "            print(f\"--EPOCH {epoch + 1}--\")\n",
    "\n",
    "            train_loss, train_acc = train(model=net, optimizer=adam, criterion=contrastive_loss, device=device,\n",
    "                                          dataloader=train_dataloader)\n",
    "            print(f\"Train loss {train_loss}\")\n",
    "            print(f\"Train acc {train_acc}\")\n",
    "\n",
    "            val_loss, val_acc = validate(model=net, criterion=contrastive_loss, device=device,\n",
    "                                         dataloader=val_dataloader)\n",
    "            print(f\"Val loss {val_loss}\")\n",
    "            print(f\"Val acc {val_acc}\")\n",
    "\n",
    "            if val_loss < best_loss:\n",
    "                best_loss = val_loss\n",
    "                best_epoch = epoch\n",
    "                best_model = copy.deepcopy(net)\n",
    "                rounds_without_improvement = 0\n",
    "            else:\n",
    "                rounds_without_improvement += 1\n",
    "\n",
    "            if rounds_without_improvement > 3:\n",
    "                break\n",
    "\n",
    "        save_model(model=best_model,\n",
    "                   name=f\"fold{fold + 1}-epoch{best_epoch + 1}-transforms{random.randint(0, 10000)}.pt\")\n",
    "\n",
    "    return best_model"
   ],
   "metadata": {
    "collapsed": false,
    "pycharm": {
     "name": "#%%\n"
    }
   }
  },
  {
   "cell_type": "markdown",
   "source": [
    "## Test logic"
   ],
   "metadata": {
    "collapsed": false,
    "pycharm": {
     "name": "#%% md\n"
    }
   }
  },
  {
   "cell_type": "code",
   "execution_count": null,
   "outputs": [],
   "source": [
    "def test_pipeline(test_dataset, num_workers, model, batch_size, device):\n",
    "    test_dataloader = DataLoader(test_dataset, batch_size=batch_size, shuffle=True, num_workers=num_workers)\n",
    "\n",
    "    # Load from disk based on the model name\n",
    "    if isinstance(model, str):\n",
    "        model = torch.jit.load(f\"{model}.pt\")\n",
    "    model = model.to(device)\n",
    "    res = [[], []]\n",
    "    count = 1\n",
    "\n",
    "    binary_threshold = 1.\n",
    "\n",
    "    correct = 0\n",
    "    total = 0.\n",
    "\n",
    "    with torch.no_grad():\n",
    "        for img1, img2, label in test_dataloader:\n",
    "            img1, img2, label = img1.to(device), img2.to(device), label.to(device)\n",
    "            output1, output2 = model(img1, img2)\n",
    "\n",
    "            output_label = threshold_contrastive_loss(output1, output2, binary_threshold).to(device)\n",
    "            total += len(label)\n",
    "            correct += (output_label == label).sum().item()\n",
    "\n",
    "            for i in range(len(output1)):\n",
    "                res[label[i]].append(F.pairwise_distance(output1[i], output2[i]).item())\n",
    "\n",
    "            if count < 10:\n",
    "                figure = plt.figure(figsize=(4, 4))\n",
    "                figure.suptitle(f'Image no.{count}', fontsize=16)\n",
    "\n",
    "                ax = figure.add_subplot(1, 2, 1)\n",
    "                ax.set_title(\"Img1\")\n",
    "                plt.axis(\"off\")\n",
    "                plt.imshow(img1[0].cpu().squeeze(), cmap=\"gray\")\n",
    "                ax = figure.add_subplot(1, 2, 2)\n",
    "                ax.set_title(\"Img2\")\n",
    "                plt.axis(\"off\")\n",
    "                plt.imshow(img2[0].cpu().squeeze(), cmap=\"gray\")\n",
    "\n",
    "                plt.show()\n",
    "\n",
    "                print(f\"Image no.{count}\")\n",
    "                if label[0].cpu() == torch.FloatTensor([[0]]):\n",
    "                    caption = \"Same numbers\"\n",
    "                else:\n",
    "                    caption = \"Different numbers\"\n",
    "\n",
    "                print(f\"Correct label: '{caption}'\")\n",
    "                print(F.pairwise_distance(output1[0], output2[0]).item())\n",
    "                print()\n",
    "\n",
    "            count += 1\n",
    "\n",
    "        print(\"\\nImages with same number\")\n",
    "        print(f\"Mean: {torch.mean(torch.tensor(res[0]))}\")\n",
    "        print(f\"Std: {torch.std(torch.tensor(res[0]))}\\n\")\n",
    "\n",
    "        print(\"Images with different number\")\n",
    "        print(f\"Mean: {torch.mean(torch.tensor(res[1]))}\")\n",
    "        print(f\"Std: {torch.std(torch.tensor(res[1]))}\\n\")\n",
    "\n",
    "        print(f\"Accuracy {correct / total}\")\n",
    "        fig = plt.figure(1, figsize=(9, 6))\n",
    "        ax = fig.add_subplot(111)\n",
    "        ax.boxplot(res)\n",
    "        plt.show()\n"
   ],
   "metadata": {
    "collapsed": false,
    "pycharm": {
     "name": "#%%\n"
    }
   }
  },
  {
   "cell_type": "markdown",
   "source": [
    "# Experiments\n",
    "\n",
    "*We will conduct two main experiments, with two different preprocessing in both. In the first part,\n",
    "we will use a siamese model and the siamese dataset. We will try all 4 different combinations of the dataset\n",
    "with both preprocessing. In the second part we will use the non-siamese model and dataset with both preprocessings.*"
   ],
   "metadata": {
    "collapsed": false,
    "pycharm": {
     "name": "#%% md\n",
     "is_executing": true
    }
   }
  },
  {
   "cell_type": "code",
   "execution_count": null,
   "outputs": [],
   "source": [
    "class Pipelines:\n",
    "    def __init__(self, k_fold_splits, batch_size, lr, epochs, transform, device, num_workers, siamese: bool):\n",
    "        self.k_fold = KFold(n_splits=k_fold_splits, shuffle=True)\n",
    "        self.batch_size = batch_size\n",
    "        self.lr = lr\n",
    "        self.epochs = epochs\n",
    "        self.transform = transform\n",
    "        self.device = device\n",
    "        self.num_workers = num_workers\n",
    "\n",
    "        if siamese:\n",
    "            self.dataset = SiameseDataset\n",
    "            self.model = SiameseNetwork\n",
    "        else:\n",
    "            self.dataset = NonSiameseDataset\n",
    "            self.model = NonSiameseNetwork\n",
    "\n",
    "    def mnist_svhn_mix_pipeline(self):\n",
    "        print(\"Starting mnist-svhn-mix pipeline\")\n",
    "\n",
    "        train_dataset = self.dataset(train=True, dataset_type=DatasetType.MIX, transform=self.transform)\n",
    "        model = train_pipeline(epochs=self.epochs, k_fold=self.k_fold, batch_size=self.batch_size,\n",
    "                               train_dataset=train_dataset, lr=self.lr, device=self.device,\n",
    "                               num_workers=self.num_workers, model=self.model)\n",
    "\n",
    "        del train_dataset\n",
    "\n",
    "        test_dataset = self.dataset(train=False, dataset_type=DatasetType.MIX, transform=self.transform)\n",
    "        test_pipeline(test_dataset=test_dataset, batch_size=self.batch_size, device=self.device,\n",
    "                      num_workers=self.num_workers,\n",
    "                      model=model)\n",
    "\n",
    "    def mnist_svhn_pipeline(self):\n",
    "        print(\"Starting mnist-svhn pipeline\")\n",
    "        train_dataset = self.dataset(train=True, dataset_type=DatasetType.BOTH, transform=self.transform)\n",
    "        model = train_pipeline(epochs=self.epochs, k_fold=self.k_fold, batch_size=self.batch_size,\n",
    "                               train_dataset=train_dataset, lr=self.lr, device=device,\n",
    "                               num_workers=self.num_workers, model=self.model)\n",
    "\n",
    "        del train_dataset\n",
    "\n",
    "        test_dataset = self.dataset(train=False, dataset_type=DatasetType.BOTH, transform=self.transform)\n",
    "        test_pipeline(test_dataset=test_dataset, batch_size=self.batch_size, device=self.device,\n",
    "                      num_workers=self.num_workers,\n",
    "                      model=model)\n",
    "\n",
    "    def mnist_pipeline(self):\n",
    "        print(\"Starting mnist pipeline\")\n",
    "        train_dataset = self.dataset(train=True, dataset_type=DatasetType.MNIST, transform=self.transform)\n",
    "        model = train_pipeline(epochs=self.epochs, k_fold=self.k_fold, batch_size=self.batch_size,\n",
    "                               train_dataset=train_dataset, lr=self.lr, device=device,\n",
    "                               num_workers=self.num_workers, model=self.model)\n",
    "\n",
    "        del train_dataset\n",
    "\n",
    "        test_dataset = self.dataset(train=False, dataset_type=DatasetType.MNIST, transform=self.transform)\n",
    "        test_pipeline(test_dataset=test_dataset, batch_size=self.batch_size, device=self.device,\n",
    "                      num_workers=self.num_workers,\n",
    "                      model=model)\n",
    "\n",
    "    def svhn_pipeline(self):\n",
    "        print(\"Starting svhn pipeline\")\n",
    "        train_dataset = self.dataset(train=True, dataset_type=DatasetType.SVHN, transform=self.transform)\n",
    "        model = train_pipeline(epochs=self.epochs, k_fold=self.k_fold, batch_size=self.batch_size,\n",
    "                               train_dataset=train_dataset, lr=self.lr, device=device,\n",
    "                               num_workers=self.num_workers, model=self.model)\n",
    "\n",
    "        del train_dataset\n",
    "\n",
    "        test_dataset = self.dataset(train=False, dataset_type=DatasetType.SVHN, transform=self.transform)\n",
    "        test_pipeline(test_dataset=test_dataset, batch_size=self.batch_size, device=self.device,\n",
    "                      num_workers=self.num_workers,\n",
    "                      model=model)\n",
    "\n",
    "    def all_pipelines(self):\n",
    "        self.mnist_svhn_mix_pipeline()\n",
    "        self.mnist_svhn_pipeline()\n",
    "        self.mnist_pipeline()\n",
    "        self.svhn_pipeline()\n"
   ],
   "metadata": {
    "collapsed": false,
    "pycharm": {
     "name": "#%%\n"
    }
   }
  },
  {
   "cell_type": "code",
   "execution_count": null,
   "outputs": [],
   "source": [
    "first_config = Pipelines(\n",
    "    k_fold_splits=5,\n",
    "    batch_size=1024,\n",
    "    lr=0.001,\n",
    "    epochs=10,\n",
    "    transform=torchvision.transforms.Compose([\n",
    "        ToNumpy(),\n",
    "        Resize(),\n",
    "        GrayScale(),\n",
    "        AdaptiveThreshold(),\n",
    "        ToTensor(),\n",
    "    ]),\n",
    "    device=device,\n",
    "    num_workers=1,\n",
    "    siamese=True\n",
    ")\n",
    "\n",
    "print(\"Running config 1 pipeline\")\n",
    "first_config.all_pipelines()"
   ],
   "metadata": {
    "collapsed": false,
    "pycharm": {
     "name": "#%%\n"
    }
   }
  },
  {
   "cell_type": "code",
   "execution_count": null,
   "outputs": [],
   "source": [
    "second_config = Pipelines(\n",
    "    k_fold_splits=5,\n",
    "    batch_size=1024,\n",
    "    lr=0.001,\n",
    "    epochs=10,\n",
    "    transform=torchvision.transforms.Compose([\n",
    "        ToNumpy(),\n",
    "        Resize(),\n",
    "        GrayScale(),\n",
    "        ToTensor(),\n",
    "    ]),\n",
    "    device=device,\n",
    "    num_workers=1,\n",
    "    siamese=True\n",
    ")\n",
    "\n",
    "print(\"Running config 2 pipeline\")\n",
    "second_config.all_pipelines()"
   ],
   "metadata": {
    "collapsed": false,
    "pycharm": {
     "name": "#%%\n"
    }
   }
  },
  {
   "cell_type": "code",
   "execution_count": null,
   "outputs": [],
   "source": [
    "third_config = Pipelines(\n",
    "    k_fold_splits=5,\n",
    "    batch_size=1024,\n",
    "    lr=0.001,\n",
    "    epochs=10,\n",
    "    transform=torchvision.transforms.Compose([\n",
    "        ToNumpy(),\n",
    "        Resize(),\n",
    "        GrayScale(),\n",
    "        AdaptiveThreshold(),\n",
    "        ToTensor(),\n",
    "    ]),\n",
    "    device=device,\n",
    "    num_workers=1,\n",
    "    siamese=False\n",
    ")\n",
    "\n",
    "print(\"Running config 3 pipeline\")\n",
    "third_config.mnist_svhn_mix_pipeline()"
   ],
   "metadata": {
    "collapsed": false,
    "pycharm": {
     "name": "#%%\n"
    }
   }
  },
  {
   "cell_type": "code",
   "execution_count": null,
   "outputs": [],
   "source": [
    "forth_pipeline = Pipelines(\n",
    "    k_fold_splits=5,\n",
    "    batch_size=1024,\n",
    "    lr=0.001,\n",
    "    epochs=10,\n",
    "    transform=torchvision.transforms.Compose([\n",
    "        ToNumpy(),\n",
    "        Resize(),\n",
    "        GrayScale(),\n",
    "        ToTensor(),\n",
    "    ]),\n",
    "    device=device,\n",
    "    num_workers=1,\n",
    "    siamese=False\n",
    ")\n",
    "\n",
    "print(\"Running config 4 pipeline\")\n",
    "forth_pipeline.mnist_svhn_mix_pipeline()"
   ],
   "metadata": {
    "collapsed": false,
    "pycharm": {
     "name": "#%%\n"
    }
   }
  }
 ]
}