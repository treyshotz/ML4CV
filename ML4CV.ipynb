{
 "metadata": {
  "kernelspec": {
   "language": "python",
   "display_name": "Python 3",
   "name": "python3"
  },
  "language_info": {
   "name": "python",
   "version": "3.7.12",
   "mimetype": "text/x-python",
   "codemirror_mode": {
    "name": "ipython",
    "version": 3
   },
   "pygments_lexer": "ipython3",
   "nbconvert_exporter": "python",
   "file_extension": ".py"
  }
 },
 "nbformat_minor": 4,
 "nbformat": 4,
 "cells": [
  {
   "cell_type": "code",
   "source": [
    "# This Python 3 environment comes with many helpful analytics libraries installed\n",
    "# It is defined by the kaggle/python Docker image: https://github.com/kaggle/docker-python\n",
    "# For example, here's several helpful packages to load\n",
    "\n",
    "# Input data files are available in the read-only \"../input/\" directory\n",
    "# For example, running this (by clicking run or pressing Shift+Enter) will list all files under the input directory\n",
    "\n",
    "import os\n",
    "\n",
    "for dirname, _, filenames in os.walk('/kaggle/input'):\n",
    "    for filename in filenames:\n",
    "        print(os.path.join(dirname, filename))\n",
    "\n",
    "# You can write up to 20GB to the current directory (/kaggle/working/) that gets preserved as output when you create a version using \"Save & Run All\" \n",
    "# You can also write temporary files to /kaggle/temp/, but they won't be saved outside of the current session"
   ],
   "metadata": {
    "_uuid": "8f2839f25d086af736a60e9eeb907d3b93b6e0e5",
    "_cell_guid": "b1076dfc-b9ad-4769-8c92-a6c4dae69d19",
    "execution": {
     "iopub.status.busy": "2022-11-14T19:58:28.389133Z",
     "iopub.execute_input": "2022-11-14T19:58:28.389528Z",
     "iopub.status.idle": "2022-11-14T19:58:28.418647Z",
     "shell.execute_reply.started": "2022-11-14T19:58:28.389393Z",
     "shell.execute_reply": "2022-11-14T19:58:28.417380Z"
    },
    "trusted": true
   },
   "execution_count": 1,
   "outputs": []
  },
  {
   "cell_type": "markdown",
   "source": [
    "Things to include in the notebook\n",
    "- Difference between training on the same dataset(s) and crossing dataset\n",
    "- Try to have it random if it should train on an image from MNIST or SVHN. \n",
    "- Try training with different types of preprocessing and data augmentation\n"
   ],
   "metadata": {}
  },
  {
   "cell_type": "markdown",
   "source": [
    "# Startphase"
   ],
   "metadata": {
    "collapsed": false,
    "pycharm": {
     "name": "#%% md\n"
    }
   }
  },
  {
   "cell_type": "markdown",
   "source": [
    "## Loading the MNIST dataset\n"
   ],
   "metadata": {}
  },
  {
   "cell_type": "code",
   "source": [
    "\n",
    "from torchvision.transforms import ToTensor\n",
    "import torchvision\n",
    "import torch\n",
    "\n",
    "# These hyperparameters should be further tested\n",
    "batch_size = 4\n",
    "num_workers = 4\n",
    "\n",
    "mnist_train_dataset = torchvision.datasets.MNIST(root=\"data\", download=True, transform=ToTensor(), train=True)"
   ],
   "metadata": {
    "execution": {
     "iopub.status.busy": "2022-11-14T19:58:28.726740Z",
     "iopub.execute_input": "2022-11-14T19:58:28.727033Z",
     "iopub.status.idle": "2022-11-14T19:58:33.509707Z",
     "shell.execute_reply.started": "2022-11-14T19:58:28.727011Z",
     "shell.execute_reply": "2022-11-14T19:58:33.508512Z"
    },
    "trusted": true
   },
   "execution_count": 2,
   "outputs": []
  },
  {
   "cell_type": "markdown",
   "source": [
    "## Loading the SVHN dataset"
   ],
   "metadata": {}
  },
  {
   "cell_type": "code",
   "source": [
    "svhn_train_dataset = torchvision.datasets.SVHN(root=\"data\", split='train', download=True, transform=ToTensor())\n"
   ],
   "metadata": {
    "execution": {
     "iopub.status.busy": "2022-11-14T19:58:33.511835Z",
     "iopub.execute_input": "2022-11-14T19:58:33.512498Z",
     "iopub.status.idle": "2022-11-14T19:59:11.826606Z",
     "shell.execute_reply.started": "2022-11-14T19:58:33.512465Z",
     "shell.execute_reply": "2022-11-14T19:59:11.825040Z"
    },
    "trusted": true
   },
   "execution_count": 3,
   "outputs": [
    {
     "name": "stdout",
     "output_type": "stream",
     "text": [
      "Using downloaded and verified file: data/train_32x32.mat\n"
     ]
    }
   ]
  },
  {
   "cell_type": "markdown",
   "source": [
    "## Visualizing the MNIST dataset"
   ],
   "metadata": {}
  },
  {
   "cell_type": "code",
   "source": [
    "from matplotlib import pyplot as plt\n",
    "\n",
    "figure = plt.figure(figsize=(8, 8))\n",
    "cols, rows = 3, 3\n",
    "\n",
    "for i in range(1, cols * rows + 1):\n",
    "    sample_idx = torch.randint(len(mnist_train_dataset), size=(1,)).item()\n",
    "    img, label = mnist_train_dataset[sample_idx]\n",
    "    ax = figure.add_subplot(rows, cols, i)\n",
    "    ax.set_title(label)\n",
    "    plt.axis(\"off\")\n",
    "    plt.imshow(img.squeeze())\n",
    "plt.show()"
   ],
   "metadata": {
    "execution": {
     "iopub.status.busy": "2022-11-14T19:59:11.828386Z",
     "iopub.execute_input": "2022-11-14T19:59:11.828797Z",
     "iopub.status.idle": "2022-11-14T19:59:12.213939Z",
     "shell.execute_reply.started": "2022-11-14T19:59:11.828765Z",
     "shell.execute_reply": "2022-11-14T19:59:12.212581Z"
    },
    "trusted": true
   },
   "execution_count": 4,
   "outputs": [
    {
     "data": {
      "text/plain": "<Figure size 576x576 with 9 Axes>",
      "image/png": "[encoded data removed]"
     },
     "metadata": {
      "needs_background": "light"
     },
     "output_type": "display_data"
    }
   ]
  },
  {
   "cell_type": "markdown",
   "source": [
    "## Visualizing the SVHN dataset\n"
   ],
   "metadata": {}
  },
  {
   "cell_type": "code",
   "source": [
    "figure = plt.figure(figsize=(8, 8))\n",
    "cols, rows = 3, 3\n",
    "\n",
    "for i in range(1, cols * rows + 1):\n",
    "    sample_idx = torch.randint(len(svhn_train_dataset), size=(1,)).item()\n",
    "    img, label = svhn_train_dataset[sample_idx]\n",
    "    img = img.permute(1, 2, 0)\n",
    "    ax1 = figure.add_subplot(rows, cols, i)\n",
    "    ax1.set_title(label)\n",
    "    plt.axis(\"off\")\n",
    "    plt.imshow(img.squeeze())\n",
    "\n",
    "plt.show()"
   ],
   "metadata": {
    "execution": {
     "iopub.status.busy": "2022-11-14T19:59:12.217060Z",
     "iopub.execute_input": "2022-11-14T19:59:12.217879Z",
     "iopub.status.idle": "2022-11-14T19:59:12.663413Z",
     "shell.execute_reply.started": "2022-11-14T19:59:12.217823Z",
     "shell.execute_reply": "2022-11-14T19:59:12.662230Z"
    },
    "trusted": true
   },
   "execution_count": 5,
   "outputs": [
    {
     "data": {
      "text/plain": "<Figure size 576x576 with 9 Axes>",
      "image/png": "[encoded data removed]"
     },
     "metadata": {
      "needs_background": "light"
     },
     "output_type": "display_data"
    }
   ]
  },
  {
   "cell_type": "markdown",
   "source": [
    "## Creating 2d-array with all the tensors based on label"
   ],
   "metadata": {}
  },
  {
   "cell_type": "code",
   "source": [
    "import numpy as np\n",
    "\n",
    "mnist_arr = []\n",
    "svhn_arr = []\n",
    "\n",
    "for i in range(10):\n",
    "    mnist_arr.append([])\n",
    "    svhn_arr.append([])\n",
    "\n",
    "for num, item in enumerate(svhn_train_dataset):\n",
    "    svhn_img = item[0].permute(1, 2, 0)\n",
    "    svhn_arr[item[1]].append(svhn_img)\n",
    "\n",
    "for num, item in enumerate(mnist_train_dataset):\n",
    "    mnist_arr[item[1]].append(item[0])\n",
    "\n"
   ],
   "metadata": {
    "execution": {
     "iopub.status.busy": "2022-11-14T19:59:12.665087Z",
     "iopub.execute_input": "2022-11-14T19:59:12.665351Z",
     "iopub.status.idle": "2022-11-14T19:59:27.599513Z",
     "shell.execute_reply.started": "2022-11-14T19:59:12.665328Z",
     "shell.execute_reply": "2022-11-14T19:59:27.598207Z"
    },
    "trusted": true
   },
   "execution_count": 6,
   "outputs": []
  },
  {
   "cell_type": "markdown",
   "source": [
    "## Inspecting images at same position"
   ],
   "metadata": {}
  },
  {
   "cell_type": "code",
   "source": [
    "import random\n",
    "\n",
    "pos1 = random.randint(0, 9)\n",
    "pos2 = random.randint(0, min(len(mnist_arr), len(svhn_arr)))\n",
    "\n",
    "figure = plt.figure(figsize=(8, 8))\n",
    "mnist_img = mnist_arr[pos1][pos2]\n",
    "svhn_img = svhn_arr[pos1][pos2]\n",
    "\n",
    "ax = figure.add_subplot(1, 2, 1)\n",
    "ax.set_title(pos1)\n",
    "plt.axis(\"off\")\n",
    "plt.imshow(mnist_img.squeeze(), cmap=\"gray\")\n",
    "ax = figure.add_subplot(1, 2, 2)\n",
    "ax.set_title(pos1)\n",
    "plt.axis(\"off\")\n",
    "plt.imshow(svhn_img.squeeze())\n",
    "\n",
    "plt.show()\n",
    "\n"
   ],
   "metadata": {
    "execution": {
     "iopub.status.busy": "2022-11-14T20:13:35.973251Z",
     "iopub.execute_input": "2022-11-14T20:13:35.973621Z",
     "iopub.status.idle": "2022-11-14T20:13:36.084239Z",
     "shell.execute_reply.started": "2022-11-14T20:13:35.973595Z",
     "shell.execute_reply": "2022-11-14T20:13:36.083348Z"
    },
    "trusted": true
   },
   "execution_count": 7,
   "outputs": [
    {
     "data": {
      "text/plain": "<Figure size 576x576 with 2 Axes>",
      "image/png": "[encoded data removed]"
     },
     "metadata": {
      "needs_background": "light"
     },
     "output_type": "display_data"
    }
   ]
  },
  {
   "cell_type": "markdown",
   "source": [
    "## Visualizing the distribution of labels from both datasets"
   ],
   "metadata": {}
  },
  {
   "cell_type": "code",
   "source": [
    "import matplotlib\n",
    "\n",
    "print(matplotlib.__version__)\n",
    "\n",
    "labels = np.arange(0, 10)\n",
    "len_mnist = [0] * 10\n",
    "len_svhn = [0] * 10\n",
    "\n",
    "for i in range(10):\n",
    "    len_mnist[i] = len(mnist_arr[i])\n",
    "    len_svhn[i] = len(svhn_arr[i])\n",
    "\n",
    "width = 0.35  # the width of the bars\n",
    "\n",
    "fig, ax = plt.subplots()\n",
    "rects1 = ax.bar(labels - width / 2, len_mnist, width, label='MNIST')\n",
    "rects2 = ax.bar(labels + width / 2, len_svhn, width, label='SVHN')\n",
    "\n",
    "# Add some text for labels, title and custom x-axis tick labels, etc.\n",
    "ax.set_ylabel('Amount')\n",
    "ax.set_title('Amount of images by label')\n",
    "ax.set_xticks(labels, labels)\n",
    "ax.legend()\n",
    "\n",
    "ax.bar_label(rects1, padding=3)\n",
    "ax.bar_label(rects2, padding=3)\n",
    "\n",
    "fig.tight_layout()\n",
    "\n",
    "plt.show()"
   ],
   "metadata": {
    "execution": {
     "iopub.status.busy": "2022-11-14T19:59:27.815117Z",
     "iopub.execute_input": "2022-11-14T19:59:27.815487Z",
     "iopub.status.idle": "2022-11-14T19:59:28.102379Z",
     "shell.execute_reply.started": "2022-11-14T19:59:27.815459Z",
     "shell.execute_reply": "2022-11-14T19:59:28.101373Z"
    },
    "trusted": true
   },
   "execution_count": 8,
   "outputs": [
    {
     "name": "stdout",
     "output_type": "stream",
     "text": [
      "3.6.2\n"
     ]
    },
    {
     "data": {
      "text/plain": "<Figure size 432x288 with 1 Axes>",
      "image/png": "[encoded data removed]"
     },
     "metadata": {
      "needs_background": "light"
     },
     "output_type": "display_data"
    }
   ]
  },
  {
   "cell_type": "markdown",
   "source": [
    "# Data preprocessing - Exploration phase\n"
   ],
   "metadata": {}
  },
  {
   "cell_type": "markdown",
   "source": [
    "## Grayscale\n",
    "\n"
   ],
   "metadata": {}
  },
  {
   "cell_type": "code",
   "source": [
    "import torchvision.transforms as T\n",
    "import cv2 as cv\n",
    "\n",
    "test_img_mnist = mnist_arr[0][0]\n",
    "test_img_svhn = svhn_arr[0][0]\n",
    "\n",
    "test_img_svhn = torch.movedim(test_img_svhn, 2, 0)\n",
    "\n",
    "gray_svhn = T.Grayscale()(test_img_svhn)\n",
    "\n",
    "gray_svhn2 = gray_svhn\n",
    "\n",
    "gray_svhn = torch.movedim(gray_svhn, 0, 2)\n",
    "\n",
    "gray_svhn2 = gray_svhn2.detach().numpy()\n",
    "gray_svhn2 = cv.normalize(gray_svhn2, None, alpha=0, beta=255, norm_type=cv.NORM_MINMAX, dtype=cv.CV_32F)\n",
    "gray_svhn2 = 255 - gray_svhn2\n",
    "\n",
    "figure = plt.figure(figsize=(12, 8))\n",
    "ax = figure.add_subplot(2, 3, 1)\n",
    "plt.axis(\"off\")\n",
    "ax.set_title(\"MNIST in grayscale\")\n",
    "plt.imshow(test_img_mnist.squeeze(), cmap=\"gray\")\n",
    "\n",
    "ax = figure.add_subplot(2, 3, 2)\n",
    "plt.axis(\"off\")\n",
    "ax.set_title(\"SVHN in grayscale\")\n",
    "plt.imshow(gray_svhn.squeeze(), cmap=\"gray\")\n",
    "\n",
    "ax = figure.add_subplot(2, 3, 3)\n",
    "plt.axis(\"off\")\n",
    "ax.set_title(\"SVHN in grayscale normalized similar to MNIST\")\n",
    "plt.imshow(gray_svhn2.squeeze(), cmap=\"gray\")\n",
    "\n",
    "plt.show()\n"
   ],
   "metadata": {
    "execution": {
     "iopub.status.busy": "2022-11-14T20:10:59.522340Z",
     "iopub.execute_input": "2022-11-14T20:10:59.522672Z",
     "iopub.status.idle": "2022-11-14T20:10:59.691556Z",
     "shell.execute_reply.started": "2022-11-14T20:10:59.522648Z",
     "shell.execute_reply": "2022-11-14T20:10:59.690825Z"
    },
    "trusted": true
   },
   "execution_count": 9,
   "outputs": [
    {
     "data": {
      "text/plain": "<Figure size 864x576 with 3 Axes>",
      "image/png": "[encoded data removed]"
     },
     "metadata": {
      "needs_background": "light"
     },
     "output_type": "display_data"
    }
   ]
  },
  {
   "cell_type": "markdown",
   "source": [
    "## Threshold\n"
   ],
   "metadata": {}
  },
  {
   "cell_type": "code",
   "source": [
    "svhn_img = svhn_arr[pos1][pos2]\n",
    "mnist_img = mnist_arr[pos1][pos2]\n",
    "\n",
    "svhn = svhn_img.detach().numpy()\n",
    "mnist = mnist_img.detach().numpy()\n",
    "\n",
    "svhn_grey = cv.normalize(svhn, None, alpha=0, beta=255, norm_type=cv.NORM_MINMAX, dtype=cv.CV_32F)\n",
    "svhn_grey = cv.cvtColor(svhn_grey, cv.COLOR_BGR2GRAY)\n",
    "svhn_grey = svhn_grey.astype(np.uint8)\n",
    "\n",
    "#Should find a good number for reduction on adaptive threshold, e.g. the last number\n",
    "svhn_threshold = cv.adaptiveThreshold(svhn_grey, 255, cv.ADAPTIVE_THRESH_MEAN_C, cv.THRESH_BINARY, 11, 20)\n",
    "svhn_threshold = cv.bitwise_not(svhn_threshold)\n",
    "\n",
    "#Threshold reduction number needs to be 0 on mnist\n",
    "mnist = cv.normalize(mnist, None, alpha=0, beta=255, norm_type=cv.NORM_MINMAX, dtype=cv.CV_8UC1)\n",
    "mnist = mnist.astype(np.uint8)\n",
    "mnist_threshold = cv.adaptiveThreshold(mnist[0], 255, cv.ADAPTIVE_THRESH_MEAN_C, cv.THRESH_BINARY, 11, 0)\n",
    "\n",
    "figure = plt.figure(figsize=(12, 12))\n",
    "\n",
    "ax = figure.add_subplot(2, 2, 1)\n",
    "ax.set_title(\"SVHN Original\")\n",
    "plt.axis(\"off\")\n",
    "plt.imshow(svhn.squeeze(), cmap=\"gray\")\n",
    "\n",
    "ax = figure.add_subplot(2, 2, 2)\n",
    "ax.set_title(\"SVHN Adaptive threshold\")\n",
    "plt.axis(\"off\")\n",
    "plt.imshow(svhn_threshold.squeeze(), cmap=\"gray\")\n",
    "\n",
    "ax = figure.add_subplot(2, 2, 3)\n",
    "ax.set_title(\"MNIST Original\")\n",
    "plt.axis(\"off\")\n",
    "plt.imshow(mnist.squeeze(), cmap=\"gray\")\n",
    "\n",
    "ax = figure.add_subplot(2, 2, 4)\n",
    "ax.set_title(\"MNIST Adaptive threshold\")\n",
    "plt.axis(\"off\")\n",
    "plt.imshow(mnist_threshold.squeeze(), cmap=\"gray\")\n",
    "\n",
    "plt.show()"
   ],
   "metadata": {
    "execution": {
     "iopub.status.busy": "2022-11-14T20:42:22.532711Z",
     "iopub.execute_input": "2022-11-14T20:42:22.533063Z",
     "iopub.status.idle": "2022-11-14T20:42:22.750454Z",
     "shell.execute_reply.started": "2022-11-14T20:42:22.533037Z",
     "shell.execute_reply": "2022-11-14T20:42:22.749818Z"
    },
    "trusted": true
   },
   "execution_count": 10,
   "outputs": [
    {
     "data": {
      "text/plain": "<Figure size 864x864 with 4 Axes>",
      "image/png": "[encoded data removed]"
     },
     "metadata": {
      "needs_background": "light"
     },
     "output_type": "display_data"
    }
   ]
  },
  {
   "cell_type": "markdown",
   "source": [
    "## Equalize Hist and CLAHE"
   ],
   "metadata": {
    "collapsed": false,
    "pycharm": {
     "name": "#%% md\n"
    }
   }
  },
  {
   "cell_type": "code",
   "source": [
    "image = svhn_arr[pos1][pos2]\n",
    "\n",
    "image = image.detach().numpy()\n",
    "image = cv.normalize(image, None, alpha=0, beta=255, norm_type=cv.NORM_MINMAX, dtype=cv.CV_32F)\n",
    "image = cv.cvtColor(image, cv.COLOR_BGR2GRAY)\n",
    "image = image.astype(np.uint8)\n",
    "\n",
    "image2 = image\n",
    "image4 = image\n",
    "\n",
    "image = cv.equalizeHist(image)\n",
    "clahe = cv.createCLAHE(clipLimit=3., )\n",
    "image2 = clahe.apply(image2)\n",
    "\n",
    "image3 = cv.adaptiveThreshold(image, 255, cv.ADAPTIVE_THRESH_MEAN_C, cv.THRESH_BINARY, 11, 2)\n",
    "image4 = cv.adaptiveThreshold(image4, 255, cv.ADAPTIVE_THRESH_MEAN_C, cv.THRESH_BINARY, 11, 0)\n",
    "\n",
    "figure = plt.figure(figsize=(8, 8))\n",
    "\n",
    "ax = figure.add_subplot(2, 2, 1)\n",
    "ax.set_title(\"EqualizeHist\")\n",
    "plt.axis(\"off\")\n",
    "plt.imshow(image.squeeze(), cmap=\"gray\")\n",
    "ax = figure.add_subplot(2, 2, 2)\n",
    "ax.set_title(\"CLAHE\")\n",
    "plt.axis(\"off\")\n",
    "plt.imshow(image2.squeeze(), cmap=\"gray\")\n",
    "ax = figure.add_subplot(2, 2, 3)\n",
    "ax.set_title(\"Adaptive Threshold + EqualizeHist\")\n",
    "plt.axis(\"off\")\n",
    "plt.imshow(image3.squeeze(), cmap=\"gray\")\n",
    "ax = figure.add_subplot(2, 2, 4)\n",
    "ax.set_title(\"Adaptive Threshold\")\n",
    "plt.axis(\"off\")\n",
    "plt.imshow(image4.squeeze(), cmap=\"gray\")\n"
   ],
   "metadata": {
    "execution": {
     "iopub.status.busy": "2022-11-14T20:12:06.524716Z",
     "iopub.execute_input": "2022-11-14T20:12:06.525045Z",
     "iopub.status.idle": "2022-11-14T20:12:06.760376Z",
     "shell.execute_reply.started": "2022-11-14T20:12:06.525023Z",
     "shell.execute_reply": "2022-11-14T20:12:06.758780Z"
    },
    "trusted": true
   },
   "execution_count": 11,
   "outputs": [
    {
     "data": {
      "text/plain": "<matplotlib.image.AxesImage at 0x123f8bd00>"
     },
     "execution_count": 11,
     "metadata": {},
     "output_type": "execute_result"
    },
    {
     "data": {
      "text/plain": "<Figure size 576x576 with 4 Axes>",
      "image/png": "[encoded data removed]"
     },
     "metadata": {
      "needs_background": "light"
     },
     "output_type": "display_data"
    }
   ]
  },
  {
   "cell_type": "markdown",
   "source": [
    "## Clearing up variables"
   ],
   "metadata": {
    "collapsed": false,
    "pycharm": {
     "name": "#%% md\n"
    }
   }
  },
  {
   "cell_type": "code",
   "execution_count": 12,
   "outputs": [],
   "source": [
    "del svhn_arr\n",
    "del svhn_train_dataset\n",
    "del mnist_arr\n",
    "del mnist_train_dataset"
   ],
   "metadata": {
    "collapsed": false,
    "pycharm": {
     "name": "#%%\n"
    }
   }
  },
  {
   "cell_type": "markdown",
   "source": [
    "# Defining the model"
   ],
   "metadata": {
    "collapsed": false,
    "pycharm": {
     "name": "#%% md\n"
    }
   }
  },
  {
   "cell_type": "markdown",
   "source": [
    "### Using CUDA if possible"
   ],
   "metadata": {
    "collapsed": false,
    "pycharm": {
     "name": "#%% md\n"
    }
   }
  },
  {
   "cell_type": "code",
   "execution_count": 13,
   "outputs": [
    {
     "name": "stdout",
     "output_type": "stream",
     "text": [
      "cpu\n"
     ]
    }
   ],
   "source": [
    "device = torch.device(\"cuda:0\" if torch.cuda.is_available() else \"cpu\")\n",
    "print(device)\n"
   ],
   "metadata": {
    "collapsed": false,
    "pycharm": {
     "name": "#%%\n"
    }
   }
  },
  {
   "cell_type": "markdown",
   "source": [
    "## Defining the loss function"
   ],
   "metadata": {
    "collapsed": false,
    "pycharm": {
     "name": "#%% md\n"
    }
   }
  },
  {
   "cell_type": "code",
   "execution_count": 14,
   "outputs": [],
   "source": [
    "import torch.nn as nn\n",
    "import torch.nn.functional as F\n",
    "\n",
    "class ContrastiveLoss(nn.Module):\n",
    "\n",
    "    def __init__(self, margin=2.0):\n",
    "        super(ContrastiveLoss, self).__init__()\n",
    "        self.margin = margin\n",
    "\n",
    "    def forward(self, output1, output2, label):\n",
    "        euclidean_distance = F.pairwise_distance(output1, output2)\n",
    "        loss_contrastive = torch.mean(\n",
    "            (1 - label) * torch.pow(euclidean_distance, 2)\n",
    "            + (label)\n",
    "            * torch.pow(torch.clamp(self.margin - euclidean_distance, min=0.0), 2)\n",
    "        )\n",
    "\n",
    "        return loss_contrastive"
   ],
   "metadata": {
    "collapsed": false,
    "pycharm": {
     "name": "#%%\n"
    }
   }
  },
  {
   "cell_type": "markdown",
   "source": [
    "## Defining siamese network model¶"
   ],
   "metadata": {
    "collapsed": false
   }
  },
  {
   "cell_type": "code",
   "execution_count": 15,
   "outputs": [],
   "source": [
    "import torch.nn as nn\n",
    "\n",
    "\n",
    "class SiameseNetwork(nn.Module):\n",
    "    def __init__(self):\n",
    "        super(SiameseNetwork, self).__init__()\n",
    "\n",
    "        self.cnn1 = nn.Sequential(\n",
    "            nn.Conv2d(1, 8, kernel_size=3, stride=1, padding=1),\n",
    "            nn.BatchNorm2d(8),\n",
    "            nn.ReLU(inplace=True),\n",
    "            nn.MaxPool2d(kernel_size=2, stride=2),\n",
    "\n",
    "            nn.Conv2d(8, 16, kernel_size=3, stride=1, padding=1),\n",
    "            nn.BatchNorm2d(16),\n",
    "            nn.ReLU(inplace=True),\n",
    "            nn.MaxPool2d(kernel_size=2, stride=2),\n",
    "        )\n",
    "\n",
    "        self.fc1 = nn.Sequential(\n",
    "            nn.Linear(16 * 7 * 7, 10)\n",
    "        )\n",
    "\n",
    "    def forward_once(self, x):\n",
    "        # Forward pass\n",
    "        output = self.cnn1(x)\n",
    "        output = output.view(output.size()[0], -1)\n",
    "        output = self.fc1(output)\n",
    "        return output\n",
    "\n",
    "    def forward(self, input1, input2):\n",
    "        # forward pass of input 1\n",
    "        output1 = self.forward_once(input1)\n",
    "        # forward pass of input 2\n",
    "        output2 = self.forward_once(input2)\n",
    "        return output1, output2"
   ],
   "metadata": {
    "collapsed": false,
    "pycharm": {
     "name": "#%%\n"
    }
   }
  },
  {
   "cell_type": "markdown",
   "source": [
    "## Setting up the custom dataset"
   ],
   "metadata": {
    "collapsed": false,
    "pycharm": {
     "name": "#%% md\n"
    }
   }
  },
  {
   "cell_type": "code",
   "execution_count": 63,
   "outputs": [],
   "source": [
    "import torchvision\n",
    "from torch.utils.data import Dataset\n",
    "\n",
    "\n",
    "class SiameseDataset(Dataset):\n",
    "    def __init__(self, train: bool, mnist=False, svhn=False, mix=False):\n",
    "        self.mnist_dataset = None\n",
    "        self.svhn_dataset = None\n",
    "\n",
    "        if mnist:\n",
    "            self.mnist_dataset = torchvision.datasets.MNIST(\"files\", train=train, download=True,\n",
    "                                                        transform=torchvision.transforms.ToTensor())\n",
    "        if svhn:\n",
    "            split = \"\"\n",
    "            if train:\n",
    "                split = \"train\"\n",
    "            else:\n",
    "                split = \"test\"\n",
    "\n",
    "            self.svhn_dataset = torchvision.datasets.SVHN(root=\"data\", split=split, download=True, transform=ToTensor())\n",
    "\n",
    "        # used to prepare the labels and images path\n",
    "        self.pairs = make_pairs(mix, self.mnist_dataset, self.svhn_dataset)\n",
    "        self.dataset = [self.mnist_dataset] + [self.svhn_dataset]\n",
    "\n",
    "    def __getitem__(self, index):\n",
    "        ##TODO Edit this to tuple logic\n",
    "        dataset_index, item_index = self.pairs[index][0]\n",
    "        pair_dataset_index, pair_index = self.pairs[index][1]\n",
    "        matching = self.pairs[index][2]\n",
    "\n",
    "        return train_dataset.dataset[dataset_index].data[item_index], train_dataset.dataset[pair_dataset_index].data[\n",
    "            pair_index], matching\n",
    "\n",
    "\n",
    "    def __len__(self):\n",
    "        return len(self.pairs)\n",
    "\n",
    "\n",
    "def make_pairs(mix, mnist = None, svhn = None):\n",
    "    pairs = []\n",
    "\n",
    "    num_classes = 10\n",
    "\n",
    "    mnist_idx = 0\n",
    "    svhn_idx = 0\n",
    "\n",
    "    if mix and mnist and svhn:\n",
    "        return mix_pairs(mnist, num_classes, pairs, svhn)\n",
    "\n",
    "    if svhn:\n",
    "        svhn_labels = svhn.labels\n",
    "        svhn_idx = [np.where(svhn_labels == i)[0] for i in range(0, num_classes)]\n",
    "        dataset_pos = 1\n",
    "\n",
    "        for anchor_idx in range(len(svhn_labels)):\n",
    "            label = svhn_labels[anchor_idx]\n",
    "\n",
    "            pos_idx = np.random.choice(svhn_idx[label])\n",
    "\n",
    "            pairs.append([(dataset_pos, anchor_idx), (dataset_pos, pos_idx), 0])\n",
    "\n",
    "            negative_label = np.random.randint(0, num_classes - 1)\n",
    "            while negative_label == label:\n",
    "                negative_label = np.random.randint(0, num_classes - 1)\n",
    "\n",
    "            neg_idx = np.random.choice(svhn_idx[negative_label])\n",
    "\n",
    "            pairs.append([(dataset_pos, anchor_idx), (dataset_pos, neg_idx), 1])\n",
    "    if mnist:\n",
    "        ##TODO start from prev index in pairs\n",
    "        mnist_labels = mnist.targets\n",
    "        mnist_idx = [np.where(mnist_labels == i)[0] for i in range(0, num_classes)]\n",
    "        dataset_pos = 0\n",
    "\n",
    "        for anchor_idx in range(len(mnist_labels)):\n",
    "            label = mnist_labels[anchor_idx]\n",
    "\n",
    "            pos_idx = np.random.choice(mnist_idx[label])\n",
    "\n",
    "            pairs.append([(dataset_pos, anchor_idx), (dataset_pos, pos_idx), 0])\n",
    "\n",
    "            negative_label = np.random.randint(0, num_classes - 1)\n",
    "            while negative_label == label:\n",
    "                negative_label = np.random.randint(0, num_classes - 1)\n",
    "\n",
    "            neg_idx = np.random.choice(mnist_idx[negative_label])\n",
    "\n",
    "            pairs.append([(dataset_pos, anchor_idx), (dataset_pos, neg_idx), 1])\n",
    "\n",
    "    return pairs\n",
    "\n",
    "# TODO: Consider cleaning up this into a single for loop instead\n",
    "def mix_pairs(mnist, num_classes, pairs, svhn):\n",
    "    ### Add mixing of datasets\n",
    "    mnist_labels = mnist.targets\n",
    "    svhn_labels = svhn.labels\n",
    "    mnist_idx = [np.where(mnist_labels == i)[0] for i in range(0, num_classes)]\n",
    "    svhn_idx = [np.where(svhn_labels == i)[0] for i in range(0, num_classes)]\n",
    "    #Use mnist since it has fewest examples\n",
    "    for anchor_idx in range(len(mnist_labels)):\n",
    "        mnist_label = mnist_labels[anchor_idx]\n",
    "\n",
    "        dataset_choice = np.random.randint(0, 1)\n",
    "        #0 = MNIST, 1 = SVHN\n",
    "        pos_idx = 0\n",
    "        if dataset_choice == 0:\n",
    "            pos_idx = np.random.choice(mnist_idx[mnist_label])\n",
    "        else:\n",
    "            pos_idx = np.random.choice(svhn_idx[mnist_label])\n",
    "\n",
    "        pairs.append([(dataset_choice, anchor_idx), (dataset_choice, pos_idx), 0])\n",
    "\n",
    "        negative_label = np.random.randint(0, num_classes - 1)\n",
    "        while negative_label == mnist_label:\n",
    "            negative_label = np.random.randint(0, num_classes - 1)\n",
    "\n",
    "        dataset_choice = np.random.randint(0, 1)\n",
    "        neg_idx = 0\n",
    "        if dataset_choice == 0:\n",
    "            neg_idx = np.random.choice(mnist_idx[negative_label])\n",
    "        else:\n",
    "            neg_idx = np.random.choice(svhn_idx[negative_label])\n",
    "\n",
    "        pairs.append([(dataset_choice, anchor_idx), (dataset_choice, neg_idx), 1])\n",
    "\n",
    "    for anchor_idx in range(len(svhn_labels)):\n",
    "        svhn_label = svhn_labels[anchor_idx]\n",
    "\n",
    "        dataset_choice = np.random.randint(0, 1)\n",
    "        #0 = MNIST, 1 = SVHN\n",
    "        pos_idx = 0\n",
    "        if dataset_choice == 0:\n",
    "            pos_idx = np.random.choice(mnist_idx[svhn_label])\n",
    "        else:\n",
    "            pos_idx = np.random.choice(svhn_idx[svhn_label])\n",
    "\n",
    "        pairs.append([(dataset_choice, anchor_idx), (dataset_choice, pos_idx), 0])\n",
    "\n",
    "        negative_label = np.random.randint(0, num_classes - 1)\n",
    "        while negative_label == svhn_label:\n",
    "            negative_label = np.random.randint(0, num_classes - 1)\n",
    "\n",
    "        dataset_choice = np.random.randint(0, 1)\n",
    "        neg_idx = 0\n",
    "        if dataset_choice == 0:\n",
    "            neg_idx = np.random.choice(mnist_idx[negative_label])\n",
    "        else:\n",
    "            neg_idx = np.random.choice(svhn_idx[negative_label])\n",
    "\n",
    "        pairs.append([(dataset_choice, anchor_idx), (dataset_choice, neg_idx), 1])\n",
    "    return pairs"
   ],
   "metadata": {
    "collapsed": false,
    "pycharm": {
     "name": "#%%\n"
    }
   }
  },
  {
   "cell_type": "markdown",
   "source": [
    "## Setting up training"
   ],
   "metadata": {
    "collapsed": false,
    "pycharm": {
     "name": "#%% md\n"
    }
   }
  },
  {
   "cell_type": "code",
   "execution_count": 67,
   "outputs": [
    {
     "name": "stdout",
     "output_type": "stream",
     "text": [
      "Using downloaded and verified file: data/train_32x32.mat\n"
     ]
    }
   ],
   "source": [
    "train_dataset = SiameseDataset(train=True, mnist=True, svhn=True)\n"
   ],
   "metadata": {
    "collapsed": false,
    "pycharm": {
     "name": "#%%\n"
    }
   }
  },
  {
   "cell_type": "code",
   "execution_count": 76,
   "outputs": [
    {
     "name": "stdout",
     "output_type": "stream",
     "text": [
      "[(1, 2), (1, 3924), 0]\n",
      "[[[ 33  15  15 ...  72  82  89]\n",
      "  [ 28  14  14 ...  40  67  83]\n",
      "  [ 40  18  16 ...  23  35  72]\n",
      "  ...\n",
      "  [ 86  87  82 ... 104 104 103]\n",
      "  [ 84  86  82 ... 110 106 106]\n",
      "  [ 85  89  85 ... 111 109 103]]\n",
      "\n",
      " [[ 30  23  17 ...  65  77  79]\n",
      "  [ 39  25  20 ...  39  58  78]\n",
      "  [ 41  21  17 ...  29  42  69]\n",
      "  ...\n",
      "  [ 81  82  79 ... 104 105 105]\n",
      "  [ 86  79  76 ... 103 105 104]\n",
      "  [ 88  82  79 ... 104 105 106]]\n",
      "\n",
      " [[ 38  19  19 ...  56  57  59]\n",
      "  [ 35  22  17 ...  50  52  60]\n",
      "  [ 38  26  23 ...  45  44  53]\n",
      "  ...\n",
      "  [ 75  71  65 ...  87  81  78]\n",
      "  [ 64  72  72 ...  84  85  86]\n",
      "  [ 68  72  67 ...  87  86  79]]]\n",
      "[[[140 138 138 ... 141 141 142]\n",
      "  [140 138 138 ... 142 141 141]\n",
      "  [140 139 139 ... 142 139 139]\n",
      "  ...\n",
      "  [142 143 143 ... 150 149 146]\n",
      "  [142 143 143 ... 151 151 148]\n",
      "  [142 144 145 ... 149 149 147]]\n",
      "\n",
      " [[121 119 118 ... 122 122 123]\n",
      "  [121 119 118 ... 122 122 122]\n",
      "  [121 120 119 ... 123 120 121]\n",
      "  ...\n",
      "  [127 128 127 ... 128 127 125]\n",
      "  [126 127 127 ... 129 129 128]\n",
      "  [126 127 126 ... 126 127 127]]\n",
      "\n",
      " [[ 81  80  81 ...  83  82  81]\n",
      "  [ 81  80  81 ...  83  81  80]\n",
      "  [ 81  81  82 ...  84  79  79]\n",
      "  ...\n",
      "  [ 92  93  93 ...  91  91  91]\n",
      "  [ 92  93  93 ...  90  92  91]\n",
      "  [ 92  93  93 ...  86  88  90]]]\n",
      "0\n"
     ]
    }
   ],
   "source": [
    "print(train_dataset.pairs[4])\n",
    "index = 0\n",
    "dataset_index, item_index = train_dataset.pairs[index][0]\n",
    "pair_dataset_index, pair_index = train_dataset.pairs[index][1]\n",
    "matching = train_dataset.pairs[index][2]\n",
    "\n",
    "print(train_dataset.dataset[dataset_index].data[item_index])\n",
    "print(train_dataset.dataset[pair_dataset_index].data[pair_index])\n",
    "print(matching)\n",
    "\n",
    "# self.dataset.data[self.pairs[index][0]].float().unsqueeze(0), self.dataset.data[\n",
    "# self.pairs[index][1]].float().unsqueeze(0), self.pairs[index][2]"
   ],
   "metadata": {
    "collapsed": false,
    "pycharm": {
     "name": "#%%\n"
    }
   }
  },
  {
   "cell_type": "code",
   "execution_count": null,
   "outputs": [],
   "source": [
    "import numpy as np\n",
    "import torch\n",
    "from torch.utils.data import DataLoader\n",
    "\n",
    "\n",
    "epochs = 20\n",
    "train_dataset = SiameseDataset(train=True)\n",
    "train_dataloader = DataLoader(train_dataset, batch_size=128, shuffle=True)\n",
    "\n",
    "val_dataset = SiameseDataset(train=False)\n",
    "val_dataloader = DataLoader(val_dataset, batch_size=128, shuffle=False)\n",
    "\n",
    "net = SiameseNetwork()\n",
    "contrastive_loss = ContrastiveLoss()\n",
    "adam = torch.optim.Adam(net.parameters(), lr=1e-3, weight_decay=0.0005)\n",
    "\n",
    "\n",
    "def train(model, optimizer, criterion, dataloader):\n",
    "    model.train()\n",
    "\n",
    "    loss = []\n",
    "\n",
    "    for img1, img2, label in dataloader:\n",
    "        optimizer.zero_grad()\n",
    "\n",
    "        output1, output2 = model(img1, img2)\n",
    "\n",
    "        loss_contrastive = criterion(output1, output2, label)\n",
    "        loss_contrastive.backward()\n",
    "        optimizer.step()\n",
    "        loss.append(loss_contrastive.item())\n",
    "\n",
    "    loss = np.array(loss)\n",
    "    return loss.mean() / len(dataloader)\n",
    "\n",
    "\n",
    "def save_model(model, name):\n",
    "    model.eval()\n",
    "    # Input to the model\n",
    "    example1 = torch.randn(1, 1, 28, 28)\n",
    "    example2 = torch.randn(1, 1, 28, 28)\n",
    "    traced_script_module = torch.jit.trace(model.cpu(), (example1, example2))\n",
    "    torch.jit.save(traced_script_module, name)\n",
    "\n",
    "\n",
    "def test(model, criterion, dataloader):\n",
    "    model.eval()\n",
    "    loss = []\n",
    "\n",
    "    with torch.no_grad():\n",
    "        for img1, img2, label in dataloader:\n",
    "            output1, output2 = net(img1, img2)\n",
    "\n",
    "            loss_contrastive = criterion(output1, output2, label)\n",
    "            loss.append(loss_contrastive.item())\n",
    "\n",
    "        loss = np.array(loss)\n",
    "    return loss.mean() / len(dataloader)\n",
    "\n",
    "\n",
    "best_model = net\n",
    "rounds_without_improvement = 0\n",
    "best_loss = float('inf')\n",
    "\n",
    "for epoch in range(epochs):\n",
    "    print(f\"--EPOCH {epoch+1}--\")\n",
    "\n",
    "    train_loss = train(model=net, optimizer=adam, criterion=contrastive_loss, dataloader=train_dataloader)\n",
    "    print(f\"Train loss {train_loss}\")\n",
    "\n",
    "    val_loss = test(model=net, criterion=contrastive_loss, dataloader=val_dataloader)\n",
    "    print(f\"Val loss {val_loss}\")\n",
    "\n",
    "    if (val_loss < best_loss):\n",
    "        best_loss = val_loss\n",
    "        best_model = net\n",
    "        rounds_without_improvement = 0\n",
    "    else:\n",
    "        rounds_without_improvement += 1\n",
    "\n",
    "    if (rounds_without_improvement > 3 or epoch == epochs-1):\n",
    "        save_model(model=best_model, name=f\"epoch{epoch}_model.pt\")\n",
    "\n"
   ],
   "metadata": {
    "collapsed": false,
    "pycharm": {
     "name": "#%%\n"
    }
   }
  },
  {
   "cell_type": "code",
   "execution_count": null,
   "outputs": [],
   "source": [
    "import torch\n",
    "import torch.nn.functional as F\n",
    "\n",
    "from matplotlib import pyplot as plt\n",
    "from torch.utils.data import DataLoader\n",
    "\n",
    "print(device)\n",
    "test_dataset = SiameseDataset(train=False)\n",
    "test_dataloader = DataLoader(test_dataset, batch_size=1, shuffle=True)\n",
    "\n",
    "model = torch.jit.load(\"epoch19_model.pt\").to(device)\n",
    "\n",
    "count = 1\n",
    "for img1, img2, label in test_dataloader:\n",
    "    output1, output2 = model(img1, img2)\n",
    "\n",
    "    figure = plt.figure(figsize=(8, 8))\n",
    "\n",
    "    ax = figure.add_subplot(1, 2, 1)\n",
    "    ax.set_title(\"Img1\")\n",
    "    plt.axis(\"off\")\n",
    "    plt.imshow(img1.squeeze(), cmap=\"gray\")\n",
    "    ax = figure.add_subplot(1, 2, 2)\n",
    "    ax.set_title(\"Img2\")\n",
    "    plt.axis(\"off\")\n",
    "    plt.imshow(img2.squeeze(), cmap=\"gray\")\n",
    "\n",
    "    plt.show()\n",
    "\n",
    "    if label == torch.FloatTensor([[0]]):\n",
    "        label = \"Same numbers\"\n",
    "    else:\n",
    "        label = \"Different numbers\"\n",
    "\n",
    "    print(label)\n",
    "    print(F.pairwise_distance(output1, output2).item())\n",
    "    print()\n",
    "\n",
    "    count += 1\n",
    "    if (count > 10):\n",
    "        break"
   ],
   "metadata": {
    "collapsed": false,
    "pycharm": {
     "name": "#%%\n"
    }
   }
  }
 ]
}